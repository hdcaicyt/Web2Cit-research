{
 "cells": [
  {
   "cell_type": "markdown",
   "metadata": {},
   "source": [
    "# Web2cit: up-to-date Citoid gap figures\n",
    "\n",
    "This notebook describes how to retrieve the source code and the [Citation templates](https://en.wikipedia.org/wiki/Wikipedia:Citation_templates) of the references of a sample of Wikipedia articles to compare them with the results of the [Citoid](https://www.mediawiki.org/wiki/Citoid) API for the same references.\n",
    "\n",
    "To follow along, we recommend running the script portions piecemeal, in order.\n",
    "\n",
    "__Author:__\n",
    "\n",
    "* Nidia Hernández, [nidiahernandez@conicet.gov.ar](mailto:nidiahy@gmail.com), CAICYT-CONICET\n",
    "\n",
    "\n",
    "## Table of Contents\n",
    "\n",
    "0. Setting Up \n",
    "1. Retrieving data from Wikipedia articles\n",
    "    - 1.1. Citation template metadata extraction\n",
    "    - 1.2. Tidying up the data\n",
    "2. Querying Citoid API\n",
    "    - 2.1 Tidying up the queried data \n",
    "3. Evaluating Citoid results\n",
    "4. Visualizing results\n",
    "    - 4.1. Tabular representation\n",
    "    - 4.2. Other representations\n",
    "\n"
   ]
  },
  {
   "cell_type": "markdown",
   "metadata": {},
   "source": [
    "## 0. Setting Up\n",
    "\n",
    "Before we get started, let's install and import the libraries that we will need."
   ]
  },
  {
   "cell_type": "code",
   "execution_count": 1,
   "metadata": {},
   "outputs": [],
   "source": [
    "import re\n",
    "import sys\n",
    "import os\n",
    "from operator import itemgetter\n",
    "from json import dump, load\n",
    "from pprint import pprint\n",
    "import urllib\n",
    "\n",
    "import requests\n",
    "from datetime import datetime, timedelta\n",
    "import pandas as pd\n",
    "from tqdm import tqdm\n",
    "import mwparserfromhell\n",
    "from wikiciteparser.parser import parse_citation_template\n"
   ]
  },
  {
   "cell_type": "code",
   "execution_count": null,
   "metadata": {},
   "outputs": [],
   "source": []
  },
  {
   "cell_type": "markdown",
   "metadata": {},
   "source": [
    "Here we set the global parameters:"
   ]
  },
  {
   "cell_type": "code",
   "execution_count": 2,
   "metadata": {},
   "outputs": [],
   "source": [
    "LANG_OPS = ['en', 'es'] # add more options\n",
    "lang = 'en'\n",
    "HEADER={'User-Agent': 'http://caicyt-conicet.gov.ar/; mailto:nidiahernandez@conicet.gov.ar'}\n",
    "MEDIAWIKI_API_URL = f'https://{lang}.wikipedia.org/w/api.php?'\n",
    "CITOID_API_URL = f'https://{lang}.wikipedia.org/api/rest_v1/data/citation/mediawiki/'"
   ]
  },
  {
   "cell_type": "markdown",
   "metadata": {},
   "source": [
    "## 1. Retrieving data from Wikipedia articles\n",
    "\n",
    "In this section, we inspect a curated list of Wikipedia articles in order to get:\n",
    "\n",
    "- the source code of the page\n",
    "- the citation templates used on the page\n",
    "- the URLs of the citations\n"
   ]
  },
  {
   "cell_type": "markdown",
   "metadata": {},
   "source": [
    "First, we get the list of URLs of Wikipedia articles from a [GoogleSpreadsheet](https://docs.google.com/spreadsheets/d/1ZgCFtTj8DvAt-OJKPB1d0ShxYjSnN-eT9zxk0EUzMIA/edit#gid=0):"
   ]
  },
  {
   "cell_type": "code",
   "execution_count": 3,
   "metadata": {},
   "outputs": [],
   "source": [
    "tab = {'en': '2094364128', 'es': '0'}[lang]\n",
    "        \n",
    "sheet_url = f'https://docs.google.com/spreadsheets/d/1ZgCFtTj8DvAt-OJKPB1d0ShxYjSnN-eT9zxk0EUzMIA/export?gid={tab}&format=csv'\n",
    "df = pd.read_csv(sheet_url)\n",
    "articles_urls = df['URL'].drop_duplicates()"
   ]
  },
  {
   "cell_type": "code",
   "execution_count": 4,
   "metadata": {},
   "outputs": [
    {
     "data": {
      "text/plain": [
       "0     https://en.wikipedia.org/wiki/List_of_dramatic...\n",
       "4         https://en.wikipedia.org/wiki/Editio_princeps\n",
       "8           https://en.wikipedia.org/wiki/Elvis_Presley\n",
       "12     https://en.wikipedia.org/wiki/Lumumba_Government\n",
       "14         https://en.wikipedia.org/wiki/Britney_Spears\n",
       "18            https://en.wikipedia.org/wiki/Airbus_A380\n",
       "Name: URL, dtype: object"
      ]
     },
     "execution_count": 4,
     "metadata": {},
     "output_type": "execute_result"
    }
   ],
   "source": [
    "articles_urls"
   ]
  },
  {
   "cell_type": "markdown",
   "metadata": {},
   "source": [
    "In order to obtain all the references cited on each article, we will get the source code of each article using the Mediawiki API. For the request, we need the title of the article, which is specified in the last part of the URL. More in mediawiki API documentation: https://www.mediawiki.org/wiki/API:Main_page."
   ]
  },
  {
   "cell_type": "code",
   "execution_count": 5,
   "metadata": {},
   "outputs": [
    {
     "name": "stderr",
     "output_type": "stream",
     "text": [
      "Retrieving data from articles: 100%|██████████| 6/6 [00:05<00:00,  1.03it/s]\n"
     ]
    }
   ],
   "source": [
    "rows = []\n",
    "\n",
    "for article_url in tqdm(articles_urls, desc='Retrieving data from articles'):\n",
    "\n",
    "    title = article_url.split('/')[-1]\n",
    "    title = urllib.parse.unquote(title)\n",
    "    #print(title)\n",
    "    \n",
    "    PARAMS = {\n",
    "        \"action\": \"parse\",\n",
    "        \"page\": title,\n",
    "        \"prop\": \"wikitext\",\n",
    "        \"format\": \"json\"\n",
    "    }\n",
    "\n",
    "    response = requests.get(\n",
    "        url=MEDIAWIKI_API_URL, \n",
    "        params=PARAMS,\n",
    "        headers=HEADER\n",
    "    )\n",
    "\n",
    "    data = response.json()\n",
    "    \n",
    "    if response.status_code == 200:\n",
    "        pageid = data[\"parse\"][\"pageid\"]\n",
    "        wikitext = data[\"parse\"][\"wikitext\"][\"*\"]\n",
    "        #revid?\n",
    "        row = {\"title\": title, \"article_url\": article_url, \"pageid\": pageid, \"wikitext\": wikitext}\n",
    "        rows.append(row)\n",
    "\n",
    "articles_df = pd.DataFrame(rows)"
   ]
  },
  {
   "cell_type": "code",
   "execution_count": null,
   "metadata": {},
   "outputs": [],
   "source": []
  },
  {
   "cell_type": "code",
   "execution_count": 6,
   "metadata": {},
   "outputs": [
    {
     "data": {
      "text/html": [
       "<div>\n",
       "<style scoped>\n",
       "    .dataframe tbody tr th:only-of-type {\n",
       "        vertical-align: middle;\n",
       "    }\n",
       "\n",
       "    .dataframe tbody tr th {\n",
       "        vertical-align: top;\n",
       "    }\n",
       "\n",
       "    .dataframe thead th {\n",
       "        text-align: right;\n",
       "    }\n",
       "</style>\n",
       "<table border=\"1\" class=\"dataframe\">\n",
       "  <thead>\n",
       "    <tr style=\"text-align: right;\">\n",
       "      <th></th>\n",
       "      <th>title</th>\n",
       "      <th>article_url</th>\n",
       "      <th>pageid</th>\n",
       "      <th>wikitext</th>\n",
       "    </tr>\n",
       "  </thead>\n",
       "  <tbody>\n",
       "    <tr>\n",
       "      <th>0</th>\n",
       "      <td>List_of_dramatic_television_series_with_LGBT_c...</td>\n",
       "      <td>https://en.wikipedia.org/wiki/List_of_dramatic...</td>\n",
       "      <td>61839913</td>\n",
       "      <td>{{hatnote|This article is about [[live action]...</td>\n",
       "    </tr>\n",
       "    <tr>\n",
       "      <th>1</th>\n",
       "      <td>Editio_princeps</td>\n",
       "      <td>https://en.wikipedia.org/wiki/Editio_princeps</td>\n",
       "      <td>4193686</td>\n",
       "      <td>{{italic title}}In [[classical scholarship]], ...</td>\n",
       "    </tr>\n",
       "    <tr>\n",
       "      <th>2</th>\n",
       "      <td>Elvis_Presley</td>\n",
       "      <td>https://en.wikipedia.org/wiki/Elvis_Presley</td>\n",
       "      <td>9288</td>\n",
       "      <td>{{short description|American singer and actor}...</td>\n",
       "    </tr>\n",
       "    <tr>\n",
       "      <th>3</th>\n",
       "      <td>Lumumba_Government</td>\n",
       "      <td>https://en.wikipedia.org/wiki/Lumumba_Government</td>\n",
       "      <td>54092590</td>\n",
       "      <td>{{very long|rps=117|date=September 2018}}\\n{{I...</td>\n",
       "    </tr>\n",
       "    <tr>\n",
       "      <th>4</th>\n",
       "      <td>Britney_Spears</td>\n",
       "      <td>https://en.wikipedia.org/wiki/Britney_Spears</td>\n",
       "      <td>3382</td>\n",
       "      <td>{{short description|American singer, songwrite...</td>\n",
       "    </tr>\n",
       "    <tr>\n",
       "      <th>5</th>\n",
       "      <td>Airbus_A380</td>\n",
       "      <td>https://en.wikipedia.org/wiki/Airbus_A380</td>\n",
       "      <td>181173</td>\n",
       "      <td>{{short description|Wide-body double deck airc...</td>\n",
       "    </tr>\n",
       "  </tbody>\n",
       "</table>\n",
       "</div>"
      ],
      "text/plain": [
       "                                               title  \\\n",
       "0  List_of_dramatic_television_series_with_LGBT_c...   \n",
       "1                                    Editio_princeps   \n",
       "2                                      Elvis_Presley   \n",
       "3                                 Lumumba_Government   \n",
       "4                                     Britney_Spears   \n",
       "5                                        Airbus_A380   \n",
       "\n",
       "                                         article_url    pageid  \\\n",
       "0  https://en.wikipedia.org/wiki/List_of_dramatic...  61839913   \n",
       "1      https://en.wikipedia.org/wiki/Editio_princeps   4193686   \n",
       "2        https://en.wikipedia.org/wiki/Elvis_Presley      9288   \n",
       "3   https://en.wikipedia.org/wiki/Lumumba_Government  54092590   \n",
       "4       https://en.wikipedia.org/wiki/Britney_Spears      3382   \n",
       "5          https://en.wikipedia.org/wiki/Airbus_A380    181173   \n",
       "\n",
       "                                            wikitext  \n",
       "0  {{hatnote|This article is about [[live action]...  \n",
       "1  {{italic title}}In [[classical scholarship]], ...  \n",
       "2  {{short description|American singer and actor}...  \n",
       "3  {{very long|rps=117|date=September 2018}}\\n{{I...  \n",
       "4  {{short description|American singer, songwrite...  \n",
       "5  {{short description|Wide-body double deck airc...  "
      ]
     },
     "execution_count": 6,
     "metadata": {},
     "output_type": "execute_result"
    }
   ],
   "source": [
    "articles_df"
   ]
  },
  {
   "cell_type": "markdown",
   "metadata": {},
   "source": [
    "### 1.1 Citation template metadata extraction\n",
    "\n",
    "Now that we already have the wikitext of the articles, we will parse it in order to retrieve the references that were introduced using a citation template and that include a URL (to be able to compare them with the results of Citoid). In other words, we are not interested in:\n",
    "\n",
    "1. Manually entered references (ie, which do not use citation templates)\n",
    "\n",
    "`<ref name=Briggs>Briggs, Asa & Burke, Peter (2002) ''A Social History of the Media: from Gutenberg to the Internet'', Cambridge: Polity, pp. 15–23, 61–73.</ref>`\n",
    "\n",
    "2. Unlinked references\n",
    "\n",
    "```<ref name=Neeham>{{cite book |title=Paper and Printing |author=[[Tsien Tsuen-Hsuin]] |author2=[[Joseph Needham]] |series=Science and Civilisation in China|volume=5 part 1|publisher=Cambridge University Press|pages=158, 201|year=1985}}</ref> ```\n",
    "\n",
    "An example of the type of references that we want to keep:\n",
    "\n",
    "```<ref name=\"VB1992\">{{cite journal|last1=Osmond|first1=Patricia J.|last2=Ulery|first2=Robert W.|date=2003|title=Sallustius|url=http://catalogustranslationum.org/PDFs/volume08/v08_sallustius.pdf#page=17|journal=[[Catalogus Translationum et Commentariorum]]|volume=8|page=199|access-date=27 August 2015}}</ref>```\n",
    "\n",
    "Therefore, we parse the page content looking only for the citation templates including a URL."
   ]
  },
  {
   "cell_type": "markdown",
   "metadata": {},
   "source": [
    "We parse the wikicode using [mwparserfromhell](https://github.com/earwig/mwparserfromhell) and the citation templates with [wikiciteparser](https://github.com/dissemin/wikiciteparser)."
   ]
  },
  {
   "cell_type": "markdown",
   "metadata": {},
   "source": [
    "We are interested in the following metadata: \n",
    "1. The URL of the source\n",
    "2. The author(s)\n",
    "3. The title of the referenced source\n",
    "4. The publishing date\n",
    "5. The publishing source\n",
    "\n",
    "The name of each data may vary between templates. For instance, the publishing source is under \"Periodical\" for news and under \"PublisherName\" for books. "
   ]
  },
  {
   "cell_type": "code",
   "execution_count": 5,
   "metadata": {},
   "outputs": [],
   "source": [
    "#### Future work mapping citation templates fieldnames, Citoid fieldnames and Web2Cit fieldnames"
   ]
  },
  {
   "cell_type": "code",
   "execution_count": null,
   "metadata": {},
   "outputs": [],
   "source": []
  },
  {
   "cell_type": "code",
   "execution_count": null,
   "metadata": {},
   "outputs": [],
   "source": []
  },
  {
   "cell_type": "code",
   "execution_count": null,
   "metadata": {},
   "outputs": [],
   "source": []
  },
  {
   "cell_type": "code",
   "execution_count": 7,
   "metadata": {},
   "outputs": [],
   "source": [
    "def extract_field(field, obj):\n",
    "    if field in obj:\n",
    "        return obj[field]"
   ]
  },
  {
   "cell_type": "code",
   "execution_count": 8,
   "metadata": {},
   "outputs": [
    {
     "name": "stderr",
     "output_type": "stream",
     "text": [
      "Finding citations and extracting metadata in List_of_dramatic_television_series_with_LGBT_characters:_2010–2015: 100%|██████████| 694/694 [00:04<00:00, 155.74it/s]\n",
      "Finding citations and extracting metadata in Editio_princeps: 100%|██████████| 54/54 [00:00<00:00, 1017.29it/s]\n",
      "Finding citations and extracting metadata in Elvis_Presley: 100%|██████████| 1059/1059 [00:00<00:00, 1241.16it/s]\n",
      "Finding citations and extracting metadata in Lumumba_Government: 100%|██████████| 780/780 [00:00<00:00, 1513.48it/s]\n",
      "Finding citations and extracting metadata in Britney_Spears: 100%|██████████| 594/594 [00:03<00:00, 187.25it/s]\n",
      "Finding citations and extracting metadata in Airbus_A380: 100%|██████████| 547/547 [00:02<00:00, 193.83it/s]\n"
     ]
    }
   ],
   "source": [
    "rows = []\n",
    "citation_nr = 0\n",
    "citation_url_nr = 0\n",
    "not_parsed = 0\n",
    "not_parsed_list = []\n",
    "\n",
    "for i, article in articles_df.iterrows():\n",
    "    parsed_wiki = mwparserfromhell.parse(article[\"wikitext\"])\n",
    "\n",
    "    title = article['title']\n",
    "    for template in tqdm(parsed_wiki.filter_templates(), desc=f\"Finding citations and extracting metadata in {title}\"):\n",
    "        template_name = str(template.name).lower()\n",
    "        \n",
    "        if not re.match(r'cite|citation', template_name):\n",
    "            continue\n",
    "\n",
    "        citation_nr += 1\n",
    "        citation_template = template_name\n",
    "\n",
    "        if re.search('url=', str(template)):\n",
    "            citation_url_nr += 1\n",
    "            parsed_template = parse_citation_template(template) ####\n",
    "\n",
    "            if parsed_template is None: # cite magazine\n",
    "                not_parsed+=1\n",
    "                not_parsed_list.append(template)\n",
    "                continue\n",
    "\n",
    "            fields_to_extract = {\n",
    "                \"URL\": \"URL\",\n",
    "                \"Authors\": \"Authors\",\n",
    "                \"Title\": \"Title\",\n",
    "                \"Publishing_date\": \"Date\"\n",
    "            }\n",
    "\n",
    "            if citation_template in ['cite web', 'cite news', 'cite podcast']: ####\n",
    "                fields_to_extract[\"Published_in\"] = \"Periodical\"  \n",
    "            else:\n",
    "                fields_to_extract[\"Published_in\"] = \"PublisherName\"\n",
    "\n",
    "            row = {colname: parsed_template.get(template_key) for colname, template_key in fields_to_extract.items()}\n",
    "            row[\"Article\"] = article[\"article_url\"]\n",
    "            row[\"Source_type\"] = citation_template.replace('cite', '')\n",
    "            rows.append(row)\n",
    "\n",
    "\n",
    "citations_metadata = pd.DataFrame(rows)"
   ]
  },
  {
   "cell_type": "markdown",
   "metadata": {},
   "source": [
    "Let's take a look at the results for the list of articles in English:"
   ]
  },
  {
   "cell_type": "code",
   "execution_count": 9,
   "metadata": {},
   "outputs": [
    {
     "name": "stdout",
     "output_type": "stream",
     "text": [
      "1848 citations found in 6 articles\n",
      "1680 citations having a URL\n",
      "Unable to parse 46 citations\n"
     ]
    }
   ],
   "source": [
    "print(f\"{citation_nr} citations found in {articles_urls.shape[0]} articles\")\n",
    "print(f\"{citation_url_nr} citations having a URL\")\n",
    "print(f\"Unable to parse {not_parsed} citations\")"
   ]
  },
  {
   "cell_type": "code",
   "execution_count": 10,
   "metadata": {},
   "outputs": [
    {
     "data": {
      "text/html": [
       "<div>\n",
       "<style scoped>\n",
       "    .dataframe tbody tr th:only-of-type {\n",
       "        vertical-align: middle;\n",
       "    }\n",
       "\n",
       "    .dataframe tbody tr th {\n",
       "        vertical-align: top;\n",
       "    }\n",
       "\n",
       "    .dataframe thead th {\n",
       "        text-align: right;\n",
       "    }\n",
       "</style>\n",
       "<table border=\"1\" class=\"dataframe\">\n",
       "  <thead>\n",
       "    <tr style=\"text-align: right;\">\n",
       "      <th></th>\n",
       "      <th>URL</th>\n",
       "      <th>Authors</th>\n",
       "      <th>Title</th>\n",
       "      <th>Publishing_date</th>\n",
       "      <th>Published_in</th>\n",
       "      <th>Article</th>\n",
       "      <th>Source_type</th>\n",
       "    </tr>\n",
       "  </thead>\n",
       "  <tbody>\n",
       "    <tr>\n",
       "      <th>0</th>\n",
       "      <td>http://www.newnownext.com/you-should-totally-b...</td>\n",
       "      <td>[{'first': 'Brent', 'last': 'Hartinger'}]</td>\n",
       "      <td>You Should TOTALLY be Watching the Hugh Dancy ...</td>\n",
       "      <td>2011-08-08</td>\n",
       "      <td>None</td>\n",
       "      <td>https://en.wikipedia.org/wiki/List_of_dramatic...</td>\n",
       "      <td>web</td>\n",
       "    </tr>\n",
       "    <tr>\n",
       "      <th>1</th>\n",
       "      <td>https://lezwatchtv.com/show/boardwalk-empire/</td>\n",
       "      <td>None</td>\n",
       "      <td>Boardwalk Empire</td>\n",
       "      <td>None</td>\n",
       "      <td>None</td>\n",
       "      <td>https://en.wikipedia.org/wiki/List_of_dramatic...</td>\n",
       "      <td>web</td>\n",
       "    </tr>\n",
       "    <tr>\n",
       "      <th>2</th>\n",
       "      <td>https://www.gaystarnews.com/article/flash-star...</td>\n",
       "      <td>[{'first': 'James', 'last': 'Besanvalle'}]</td>\n",
       "      <td>Flash star Keiynan Lonsdale comes out in beaut...</td>\n",
       "      <td>2017-05-13</td>\n",
       "      <td>None</td>\n",
       "      <td>https://en.wikipedia.org/wiki/List_of_dramatic...</td>\n",
       "      <td>web</td>\n",
       "    </tr>\n",
       "    <tr>\n",
       "      <th>3</th>\n",
       "      <td>https://thewest.com.au/entertainment/art/reluc...</td>\n",
       "      <td>[{'first': 'Tiffany', 'last': 'Fox'}]</td>\n",
       "      <td>Reluctant heart-throb</td>\n",
       "      <td>2013-07-03</td>\n",
       "      <td>None</td>\n",
       "      <td>https://en.wikipedia.org/wiki/List_of_dramatic...</td>\n",
       "      <td>web</td>\n",
       "    </tr>\n",
       "    <tr>\n",
       "      <th>4</th>\n",
       "      <td>https://tvtonight.com.au/2010/08/a-kiss-is-jus...</td>\n",
       "      <td>[{'first': 'David', 'last': 'Knox'}]</td>\n",
       "      <td>A kiss is just a kiss, even in teen TV.  TV To...</td>\n",
       "      <td>2010-08-21</td>\n",
       "      <td>None</td>\n",
       "      <td>https://en.wikipedia.org/wiki/List_of_dramatic...</td>\n",
       "      <td>web</td>\n",
       "    </tr>\n",
       "    <tr>\n",
       "      <th>...</th>\n",
       "      <td>...</td>\n",
       "      <td>...</td>\n",
       "      <td>...</td>\n",
       "      <td>...</td>\n",
       "      <td>...</td>\n",
       "      <td>...</td>\n",
       "      <td>...</td>\n",
       "    </tr>\n",
       "    <tr>\n",
       "      <th>1629</th>\n",
       "      <td>http://www.markpower.co.uk/projects/A-380</td>\n",
       "      <td>[{'last': 'Mark Power', 'link': 'Mark Power'}]</td>\n",
       "      <td>Project \" A380: Photographs / Audio Visual</td>\n",
       "      <td>2003/2006</td>\n",
       "      <td>None</td>\n",
       "      <td>https://en.wikipedia.org/wiki/Airbus_A380</td>\n",
       "      <td>web</td>\n",
       "    </tr>\n",
       "    <tr>\n",
       "      <th>1630</th>\n",
       "      <td>https://www.flightglobal.com/news/articles/eve...</td>\n",
       "      <td>None</td>\n",
       "      <td>Airbus A380 Aircraft Profile</td>\n",
       "      <td>2007-02-27</td>\n",
       "      <td>None</td>\n",
       "      <td>https://en.wikipedia.org/wiki/Airbus_A380</td>\n",
       "      <td>web</td>\n",
       "    </tr>\n",
       "    <tr>\n",
       "      <th>1631</th>\n",
       "      <td>https://www.flightglobal.com/news/articles/dub...</td>\n",
       "      <td>[{'last': 'Max Kingsley-Jones'}]</td>\n",
       "      <td>The path to an A380 century at Emirates</td>\n",
       "      <td>2017-11-09</td>\n",
       "      <td>None</td>\n",
       "      <td>https://en.wikipedia.org/wiki/Airbus_A380</td>\n",
       "      <td>news</td>\n",
       "    </tr>\n",
       "    <tr>\n",
       "      <th>1632</th>\n",
       "      <td>https://www.flightglobal.com/news/articles/ana...</td>\n",
       "      <td>[{'last': 'David Kaminski-Morrow'}]</td>\n",
       "      <td>Analysis: A380 scrapes along in hope of revival</td>\n",
       "      <td>2018-07-09</td>\n",
       "      <td>None</td>\n",
       "      <td>https://en.wikipedia.org/wiki/Airbus_A380</td>\n",
       "      <td>news</td>\n",
       "    </tr>\n",
       "    <tr>\n",
       "      <th>1633</th>\n",
       "      <td>http://aviationweek.com/a380</td>\n",
       "      <td>[{'last': 'Jens Flottau'}, {'last': 'Rupa Hari...</td>\n",
       "      <td>End of the Mega-Transport: Highs and Lows of t...</td>\n",
       "      <td>None</td>\n",
       "      <td>None</td>\n",
       "      <td>https://en.wikipedia.org/wiki/Airbus_A380</td>\n",
       "      <td>web</td>\n",
       "    </tr>\n",
       "  </tbody>\n",
       "</table>\n",
       "<p>1634 rows × 7 columns</p>\n",
       "</div>"
      ],
      "text/plain": [
       "                                                    URL  \\\n",
       "0     http://www.newnownext.com/you-should-totally-b...   \n",
       "1         https://lezwatchtv.com/show/boardwalk-empire/   \n",
       "2     https://www.gaystarnews.com/article/flash-star...   \n",
       "3     https://thewest.com.au/entertainment/art/reluc...   \n",
       "4     https://tvtonight.com.au/2010/08/a-kiss-is-jus...   \n",
       "...                                                 ...   \n",
       "1629          http://www.markpower.co.uk/projects/A-380   \n",
       "1630  https://www.flightglobal.com/news/articles/eve...   \n",
       "1631  https://www.flightglobal.com/news/articles/dub...   \n",
       "1632  https://www.flightglobal.com/news/articles/ana...   \n",
       "1633                       http://aviationweek.com/a380   \n",
       "\n",
       "                                                Authors  \\\n",
       "0             [{'first': 'Brent', 'last': 'Hartinger'}]   \n",
       "1                                                  None   \n",
       "2            [{'first': 'James', 'last': 'Besanvalle'}]   \n",
       "3                 [{'first': 'Tiffany', 'last': 'Fox'}]   \n",
       "4                  [{'first': 'David', 'last': 'Knox'}]   \n",
       "...                                                 ...   \n",
       "1629     [{'last': 'Mark Power', 'link': 'Mark Power'}]   \n",
       "1630                                               None   \n",
       "1631                   [{'last': 'Max Kingsley-Jones'}]   \n",
       "1632                [{'last': 'David Kaminski-Morrow'}]   \n",
       "1633  [{'last': 'Jens Flottau'}, {'last': 'Rupa Hari...   \n",
       "\n",
       "                                                  Title Publishing_date  \\\n",
       "0     You Should TOTALLY be Watching the Hugh Dancy ...      2011-08-08   \n",
       "1                                      Boardwalk Empire            None   \n",
       "2     Flash star Keiynan Lonsdale comes out in beaut...      2017-05-13   \n",
       "3                                 Reluctant heart-throb      2013-07-03   \n",
       "4     A kiss is just a kiss, even in teen TV.  TV To...      2010-08-21   \n",
       "...                                                 ...             ...   \n",
       "1629         Project \" A380: Photographs / Audio Visual       2003/2006   \n",
       "1630                       Airbus A380 Aircraft Profile      2007-02-27   \n",
       "1631            The path to an A380 century at Emirates      2017-11-09   \n",
       "1632    Analysis: A380 scrapes along in hope of revival      2018-07-09   \n",
       "1633  End of the Mega-Transport: Highs and Lows of t...            None   \n",
       "\n",
       "     Published_in                                            Article  \\\n",
       "0            None  https://en.wikipedia.org/wiki/List_of_dramatic...   \n",
       "1            None  https://en.wikipedia.org/wiki/List_of_dramatic...   \n",
       "2            None  https://en.wikipedia.org/wiki/List_of_dramatic...   \n",
       "3            None  https://en.wikipedia.org/wiki/List_of_dramatic...   \n",
       "4            None  https://en.wikipedia.org/wiki/List_of_dramatic...   \n",
       "...           ...                                                ...   \n",
       "1629         None          https://en.wikipedia.org/wiki/Airbus_A380   \n",
       "1630         None          https://en.wikipedia.org/wiki/Airbus_A380   \n",
       "1631         None          https://en.wikipedia.org/wiki/Airbus_A380   \n",
       "1632         None          https://en.wikipedia.org/wiki/Airbus_A380   \n",
       "1633         None          https://en.wikipedia.org/wiki/Airbus_A380   \n",
       "\n",
       "     Source_type  \n",
       "0           web   \n",
       "1           web   \n",
       "2           web   \n",
       "3           web   \n",
       "4           web   \n",
       "...          ...  \n",
       "1629        web   \n",
       "1630        web   \n",
       "1631       news   \n",
       "1632       news   \n",
       "1633        web   \n",
       "\n",
       "[1634 rows x 7 columns]"
      ]
     },
     "execution_count": 10,
     "metadata": {},
     "output_type": "execute_result"
    }
   ],
   "source": [
    "citations_metadata"
   ]
  },
  {
   "cell_type": "code",
   "execution_count": null,
   "metadata": {},
   "outputs": [],
   "source": []
  },
  {
   "cell_type": "markdown",
   "metadata": {},
   "source": [
    "### 1.2 Tidying up the data"
   ]
  },
  {
   "cell_type": "markdown",
   "metadata": {},
   "source": [
    "We arrange the column order."
   ]
  },
  {
   "cell_type": "code",
   "execution_count": 11,
   "metadata": {},
   "outputs": [],
   "source": [
    "citations_metadata = citations_metadata[['Article', 'Source_type', 'URL', 'Authors', 'Title', 'Publishing_date', 'Published_in']]\n",
    "citations_metadata = citations_metadata.reset_index(drop=True)"
   ]
  },
  {
   "cell_type": "code",
   "execution_count": 13,
   "metadata": {},
   "outputs": [
    {
     "data": {
      "text/plain": [
       "Article            https://en.wikipedia.org/wiki/List_of_dramatic...\n",
       "Source_type                                                      web\n",
       "URL                https://www.pinknews.co.uk/2018/10/24/arrow-ga...\n",
       "Authors                                                   Nick Duffy\n",
       "Title                   Arrow just revealed a major character is gay\n",
       "Publishing_date                                           2018-10-24\n",
       "Published_in                                               Pink News\n",
       "Name: 131, dtype: object"
      ]
     },
     "execution_count": 13,
     "metadata": {},
     "output_type": "execute_result"
    }
   ],
   "source": [
    "citations_metadata.iloc[131]"
   ]
  },
  {
   "cell_type": "markdown",
   "metadata": {},
   "source": [
    "We save this partial result to csv."
   ]
  },
  {
   "cell_type": "code",
   "execution_count": 14,
   "metadata": {},
   "outputs": [],
   "source": [
    "filepath = f'citations_metadata_{lang}.csv'\n",
    "citations_metadata.to_csv(filepath, index=False)"
   ]
  },
  {
   "cell_type": "code",
   "execution_count": 15,
   "metadata": {},
   "outputs": [
    {
     "data": {
      "text/html": [
       "<div>\n",
       "<style scoped>\n",
       "    .dataframe tbody tr th:only-of-type {\n",
       "        vertical-align: middle;\n",
       "    }\n",
       "\n",
       "    .dataframe tbody tr th {\n",
       "        vertical-align: top;\n",
       "    }\n",
       "\n",
       "    .dataframe thead th {\n",
       "        text-align: right;\n",
       "    }\n",
       "</style>\n",
       "<table border=\"1\" class=\"dataframe\">\n",
       "  <thead>\n",
       "    <tr style=\"text-align: right;\">\n",
       "      <th></th>\n",
       "      <th>Article</th>\n",
       "      <th>Source_type</th>\n",
       "      <th>URL</th>\n",
       "      <th>Authors</th>\n",
       "      <th>Title</th>\n",
       "      <th>Publishing_date</th>\n",
       "      <th>Published_in</th>\n",
       "    </tr>\n",
       "  </thead>\n",
       "  <tbody>\n",
       "    <tr>\n",
       "      <th>0</th>\n",
       "      <td>https://en.wikipedia.org/wiki/List_of_dramatic...</td>\n",
       "      <td>web</td>\n",
       "      <td>http://www.newnownext.com/you-should-totally-b...</td>\n",
       "      <td>Brent Hartinger</td>\n",
       "      <td>You Should TOTALLY be Watching the Hugh Dancy ...</td>\n",
       "      <td>2011-08-08</td>\n",
       "      <td>None</td>\n",
       "    </tr>\n",
       "    <tr>\n",
       "      <th>1</th>\n",
       "      <td>https://en.wikipedia.org/wiki/List_of_dramatic...</td>\n",
       "      <td>web</td>\n",
       "      <td>https://lezwatchtv.com/show/boardwalk-empire/</td>\n",
       "      <td>None</td>\n",
       "      <td>Boardwalk Empire</td>\n",
       "      <td>None</td>\n",
       "      <td>None</td>\n",
       "    </tr>\n",
       "    <tr>\n",
       "      <th>2</th>\n",
       "      <td>https://en.wikipedia.org/wiki/List_of_dramatic...</td>\n",
       "      <td>web</td>\n",
       "      <td>https://www.gaystarnews.com/article/flash-star...</td>\n",
       "      <td>James Besanvalle</td>\n",
       "      <td>Flash star Keiynan Lonsdale comes out in beaut...</td>\n",
       "      <td>2017-05-13</td>\n",
       "      <td>None</td>\n",
       "    </tr>\n",
       "    <tr>\n",
       "      <th>3</th>\n",
       "      <td>https://en.wikipedia.org/wiki/List_of_dramatic...</td>\n",
       "      <td>web</td>\n",
       "      <td>https://thewest.com.au/entertainment/art/reluc...</td>\n",
       "      <td>Tiffany Fox</td>\n",
       "      <td>Reluctant heart-throb</td>\n",
       "      <td>2013-07-03</td>\n",
       "      <td>None</td>\n",
       "    </tr>\n",
       "    <tr>\n",
       "      <th>4</th>\n",
       "      <td>https://en.wikipedia.org/wiki/List_of_dramatic...</td>\n",
       "      <td>web</td>\n",
       "      <td>https://tvtonight.com.au/2010/08/a-kiss-is-jus...</td>\n",
       "      <td>David Knox</td>\n",
       "      <td>A kiss is just a kiss, even in teen TV.  TV To...</td>\n",
       "      <td>2010-08-21</td>\n",
       "      <td>None</td>\n",
       "    </tr>\n",
       "    <tr>\n",
       "      <th>...</th>\n",
       "      <td>...</td>\n",
       "      <td>...</td>\n",
       "      <td>...</td>\n",
       "      <td>...</td>\n",
       "      <td>...</td>\n",
       "      <td>...</td>\n",
       "      <td>...</td>\n",
       "    </tr>\n",
       "    <tr>\n",
       "      <th>1629</th>\n",
       "      <td>https://en.wikipedia.org/wiki/Airbus_A380</td>\n",
       "      <td>web</td>\n",
       "      <td>http://www.markpower.co.uk/projects/A-380</td>\n",
       "      <td>Mark Power</td>\n",
       "      <td>Project \" A380: Photographs / Audio Visual</td>\n",
       "      <td>2003/2006</td>\n",
       "      <td>None</td>\n",
       "    </tr>\n",
       "    <tr>\n",
       "      <th>1630</th>\n",
       "      <td>https://en.wikipedia.org/wiki/Airbus_A380</td>\n",
       "      <td>web</td>\n",
       "      <td>https://www.flightglobal.com/news/articles/eve...</td>\n",
       "      <td>None</td>\n",
       "      <td>Airbus A380 Aircraft Profile</td>\n",
       "      <td>2007-02-27</td>\n",
       "      <td>None</td>\n",
       "    </tr>\n",
       "    <tr>\n",
       "      <th>1631</th>\n",
       "      <td>https://en.wikipedia.org/wiki/Airbus_A380</td>\n",
       "      <td>news</td>\n",
       "      <td>https://www.flightglobal.com/news/articles/dub...</td>\n",
       "      <td>Max Kingsley-Jones</td>\n",
       "      <td>The path to an A380 century at Emirates</td>\n",
       "      <td>2017-11-09</td>\n",
       "      <td>None</td>\n",
       "    </tr>\n",
       "    <tr>\n",
       "      <th>1632</th>\n",
       "      <td>https://en.wikipedia.org/wiki/Airbus_A380</td>\n",
       "      <td>news</td>\n",
       "      <td>https://www.flightglobal.com/news/articles/ana...</td>\n",
       "      <td>David Kaminski-Morrow</td>\n",
       "      <td>Analysis: A380 scrapes along in hope of revival</td>\n",
       "      <td>2018-07-09</td>\n",
       "      <td>None</td>\n",
       "    </tr>\n",
       "    <tr>\n",
       "      <th>1633</th>\n",
       "      <td>https://en.wikipedia.org/wiki/Airbus_A380</td>\n",
       "      <td>web</td>\n",
       "      <td>http://aviationweek.com/a380</td>\n",
       "      <td>Jens Flottau|Rupa Haria</td>\n",
       "      <td>End of the Mega-Transport: Highs and Lows of t...</td>\n",
       "      <td>None</td>\n",
       "      <td>None</td>\n",
       "    </tr>\n",
       "  </tbody>\n",
       "</table>\n",
       "<p>1634 rows × 7 columns</p>\n",
       "</div>"
      ],
      "text/plain": [
       "                                                Article Source_type  \\\n",
       "0     https://en.wikipedia.org/wiki/List_of_dramatic...        web    \n",
       "1     https://en.wikipedia.org/wiki/List_of_dramatic...        web    \n",
       "2     https://en.wikipedia.org/wiki/List_of_dramatic...        web    \n",
       "3     https://en.wikipedia.org/wiki/List_of_dramatic...        web    \n",
       "4     https://en.wikipedia.org/wiki/List_of_dramatic...        web    \n",
       "...                                                 ...         ...   \n",
       "1629          https://en.wikipedia.org/wiki/Airbus_A380        web    \n",
       "1630          https://en.wikipedia.org/wiki/Airbus_A380        web    \n",
       "1631          https://en.wikipedia.org/wiki/Airbus_A380       news    \n",
       "1632          https://en.wikipedia.org/wiki/Airbus_A380       news    \n",
       "1633          https://en.wikipedia.org/wiki/Airbus_A380        web    \n",
       "\n",
       "                                                    URL  \\\n",
       "0     http://www.newnownext.com/you-should-totally-b...   \n",
       "1         https://lezwatchtv.com/show/boardwalk-empire/   \n",
       "2     https://www.gaystarnews.com/article/flash-star...   \n",
       "3     https://thewest.com.au/entertainment/art/reluc...   \n",
       "4     https://tvtonight.com.au/2010/08/a-kiss-is-jus...   \n",
       "...                                                 ...   \n",
       "1629          http://www.markpower.co.uk/projects/A-380   \n",
       "1630  https://www.flightglobal.com/news/articles/eve...   \n",
       "1631  https://www.flightglobal.com/news/articles/dub...   \n",
       "1632  https://www.flightglobal.com/news/articles/ana...   \n",
       "1633                       http://aviationweek.com/a380   \n",
       "\n",
       "                      Authors  \\\n",
       "0             Brent Hartinger   \n",
       "1                        None   \n",
       "2            James Besanvalle   \n",
       "3                 Tiffany Fox   \n",
       "4                  David Knox   \n",
       "...                       ...   \n",
       "1629               Mark Power   \n",
       "1630                     None   \n",
       "1631       Max Kingsley-Jones   \n",
       "1632    David Kaminski-Morrow   \n",
       "1633  Jens Flottau|Rupa Haria   \n",
       "\n",
       "                                                  Title Publishing_date  \\\n",
       "0     You Should TOTALLY be Watching the Hugh Dancy ...      2011-08-08   \n",
       "1                                      Boardwalk Empire            None   \n",
       "2     Flash star Keiynan Lonsdale comes out in beaut...      2017-05-13   \n",
       "3                                 Reluctant heart-throb      2013-07-03   \n",
       "4     A kiss is just a kiss, even in teen TV.  TV To...      2010-08-21   \n",
       "...                                                 ...             ...   \n",
       "1629         Project \" A380: Photographs / Audio Visual       2003/2006   \n",
       "1630                       Airbus A380 Aircraft Profile      2007-02-27   \n",
       "1631            The path to an A380 century at Emirates      2017-11-09   \n",
       "1632    Analysis: A380 scrapes along in hope of revival      2018-07-09   \n",
       "1633  End of the Mega-Transport: Highs and Lows of t...            None   \n",
       "\n",
       "     Published_in  \n",
       "0            None  \n",
       "1            None  \n",
       "2            None  \n",
       "3            None  \n",
       "4            None  \n",
       "...           ...  \n",
       "1629         None  \n",
       "1630         None  \n",
       "1631         None  \n",
       "1632         None  \n",
       "1633         None  \n",
       "\n",
       "[1634 rows x 7 columns]"
      ]
     },
     "execution_count": 15,
     "metadata": {},
     "output_type": "execute_result"
    }
   ],
   "source": [
    "citations_metadata"
   ]
  },
  {
   "cell_type": "code",
   "execution_count": null,
   "metadata": {},
   "outputs": [],
   "source": []
  },
  {
   "cell_type": "code",
   "execution_count": null,
   "metadata": {},
   "outputs": [],
   "source": []
  },
  {
   "cell_type": "code",
   "execution_count": null,
   "metadata": {},
   "outputs": [],
   "source": []
  },
  {
   "cell_type": "code",
   "execution_count": null,
   "metadata": {},
   "outputs": [],
   "source": []
  },
  {
   "cell_type": "code",
   "execution_count": null,
   "metadata": {},
   "outputs": [],
   "source": []
  },
  {
   "cell_type": "markdown",
   "metadata": {},
   "source": [
    "\n",
    "\n",
    "\n"
   ]
  },
  {
   "cell_type": "markdown",
   "metadata": {},
   "source": [
    "## 2. Querying Citoid API\n",
    "\n",
    "In this section, we request the [Citoid API](https://en.wikipedia.org/api/rest_v1/#/Citation/getCitation) to find the citation metadata for the list of URLs found on the previous step."
   ]
  },
  {
   "cell_type": "code",
   "execution_count": null,
   "metadata": {},
   "outputs": [],
   "source": [
    "cache = {}\n",
    "    \n",
    "def get_and_cache_response(reference_url):\n",
    "    \n",
    "    if reference_url not in cache:\n",
    "    \n",
    "        parsed_url = quote(reference_url).replace('/', '%2F')\n",
    "        response = requests.get(\n",
    "            url=CITOID_API_URL+parsed_url,\n",
    "            headers = HEADER\n",
    "        )\n",
    "\n",
    "        if response.status_code == 200:\n",
    "            cache[reference_url] = response.json()\n",
    "        else:\n",
    "            return\n",
    "\n",
    "    return cache[reference_url]"
   ]
  },
  {
   "cell_type": "code",
   "execution_count": 3,
   "metadata": {},
   "outputs": [],
   "source": [
    "####"
   ]
  },
  {
   "cell_type": "code",
   "execution_count": null,
   "metadata": {},
   "outputs": [],
   "source": []
  },
  {
   "cell_type": "markdown",
   "metadata": {},
   "source": [
    "## Tidying up the queried data "
   ]
  },
  {
   "cell_type": "code",
   "execution_count": 7,
   "metadata": {},
   "outputs": [],
   "source": [
    "#### Map fieldnames"
   ]
  },
  {
   "cell_type": "code",
   "execution_count": null,
   "metadata": {},
   "outputs": [],
   "source": []
  },
  {
   "cell_type": "code",
   "execution_count": null,
   "metadata": {},
   "outputs": [],
   "source": []
  },
  {
   "cell_type": "markdown",
   "metadata": {},
   "source": [
    "## 3. Evaluation"
   ]
  },
  {
   "cell_type": "code",
   "execution_count": 8,
   "metadata": {},
   "outputs": [],
   "source": [
    "#### compare metadata for each URL\n",
    "#### scoring"
   ]
  },
  {
   "cell_type": "code",
   "execution_count": null,
   "metadata": {},
   "outputs": [],
   "source": []
  },
  {
   "cell_type": "code",
   "execution_count": null,
   "metadata": {},
   "outputs": [],
   "source": []
  },
  {
   "cell_type": "markdown",
   "metadata": {},
   "source": [
    "## 4. Results"
   ]
  },
  {
   "cell_type": "code",
   "execution_count": null,
   "metadata": {},
   "outputs": [],
   "source": []
  },
  {
   "cell_type": "code",
   "execution_count": null,
   "metadata": {},
   "outputs": [],
   "source": []
  },
  {
   "cell_type": "code",
   "execution_count": null,
   "metadata": {},
   "outputs": [],
   "source": []
  },
  {
   "cell_type": "markdown",
   "metadata": {},
   "source": [
    "\n"
   ]
  }
 ],
 "metadata": {
  "kernelspec": {
   "display_name": "Python 3",
   "language": "python",
   "name": "python3"
  },
  "language_info": {
   "codemirror_mode": {
    "name": "ipython",
    "version": 3
   },
   "file_extension": ".py",
   "mimetype": "text/x-python",
   "name": "python",
   "nbconvert_exporter": "python",
   "pygments_lexer": "ipython3",
   "version": "3.7.6"
  }
 },
 "nbformat": 4,
 "nbformat_minor": 4
}
