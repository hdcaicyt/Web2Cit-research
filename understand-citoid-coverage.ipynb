{
 "cells": [
  {
   "cell_type": "markdown",
   "metadata": {},
   "source": [
    "# Web2cit: up-to-date Citoid gap figures\n",
    "\n",
    "This notebook describes how to retrieve the source code and the [Citation templates](https://en.wikipedia.org/wiki/Wikipedia:Citation_templates) of the references of a sample of Wikipedia articles to compare them with the results of the [Citoid](https://www.mediawiki.org/wiki/Citoid) API for the same references.\n",
    "\n",
    "To follow along, we recommend running the script portions piecemeal, in order.\n",
    "\n",
    "__Author:__\n",
    "\n",
    "* Nidia Hernández, [nidiahernandez@conicet.gov.ar](mailto:nidiahy@gmail.com), CAICYT-CONICET\n",
    "\n",
    "\n",
    "## Table of Contents\n",
    "\n",
    "0. Setting Up \n",
    "1. Retrieving data from Wikipedia articles\n",
    "    - 1.1. Fetching featured articles using Mediawiki's action API\n",
    "    - 1.2. Retrieve featured articles data\n",
    "2. Citation template metadata extraction\n",
    "    - 2.1 Parameter name mapping\n",
    "    - 2.2 Inspecting all featured articles\n",
    "    - 2.3 Citation template extraction summary\n",
    "3. Querying Citoid API\n",
    "    - 3.1 Validate URLs\n",
    "4. Evaluating Citoid results\n",
    "5. Visualizing results\n",
    "    - 5.1. Tabular representation\n",
    "    - 5.2. Other representations ...\n",
    "6. ...\n",
    "    - 6.1. ...\n",
    "    - 6.2. ..."
   ]
  },
  {
   "cell_type": "markdown",
   "metadata": {},
   "source": [
    "## 0. Setting Up\n",
    "\n",
    "Before we get started, let's install and import the libraries that we will need."
   ]
  },
  {
   "cell_type": "code",
   "execution_count": 20,
   "metadata": {},
   "outputs": [],
   "source": [
    "import re\n",
    "import os\n",
    "import requests\n",
    "import urllib\n",
    "import pandas as pd\n",
    "from operator import itemgetter\n",
    "import json\n",
    "import gzip\n",
    "import glob\n",
    "from pprint import pprint\n",
    "from tqdm import tqdm\n",
    "import mwparserfromhell\n",
    "import validators\n",
    "from datetime import datetime\n",
    "import concurrent.futures\n",
    "from time import sleep\n",
    "from more_itertools import chunked"
   ]
  },
  {
   "cell_type": "markdown",
   "metadata": {},
   "source": [
    "Here we set the global parameters:"
   ]
  },
  {
   "cell_type": "code",
   "execution_count": 24,
   "metadata": {},
   "outputs": [],
   "source": [
    "HEADER={'User-Agent': 'https://phabricator.wikimedia.org/tag/web2cit-research/; mailto:nidiahernandez@conicet.gov.ar'}"
   ]
  },
  {
   "cell_type": "markdown",
   "metadata": {
    "tags": []
   },
   "source": [
    "## 1. Retrieving data from Wikipedia articles\n",
    "\n",
    "In this section, we will fetch all the featured articles from a selection of Wikipedias ir order to find:\n",
    "\n",
    "- the citation templates used on each article\n",
    "- the URLs of the citations\n",
    "\n",
    "The selected Wikipedias are the following:\n",
    "\n",
    "- [English Wikipedia](https://en.wikipedia.org/wiki/Category:Featured_articles): ~6k featured articles\n",
    "- [Spanish Wikipedia](https://es.wikipedia.org/wiki/Categor%C3%ADa:Wikipedia:Art%C3%ADculos_destacados): ~1.2k artículos destacados\n",
    "- [French Wikipedia](https://fr.wikipedia.org/wiki/Cat%C3%A9gorie:Article_de_qualit%C3%A9): ~2k articles de qualité\n",
    "- [Portuguese Wikipedia](https://pt.wikipedia.org/wiki/Categoria:!Artigos_destacados): ~1.3k artigos destacados\n",
    "\n",
    "Some general information about featured articles in all Wikipedias: https://meta.wikimedia.org/wiki/Wikipedia_featured_articles (out of date).\n",
    "\n",
    "#### Featured content endpoint in Mediawiki's API\n",
    "\n",
    "There is a specific endpoint for featured content in Mediawiki's API:\n",
    "\n",
    "https://api.wikimedia.org/feed/v1/wikipedia/{lang}/featured/\n",
    "\n",
    "For example, the request https://api.wikimedia.org/feed/v1/wikipedia/en/featured/2021/12/06 returns today's featured article (tfa) for December 6th 2021 in English Wikipedia.\n",
    "\n",
    "Unfortunatatly, this is not avalilable for all the Wikipedias of our interest because \"not all Wikipedias are integrated into the Feed endpoint\" ([Feed endpoint doc](https://api.wikimedia.org/wiki/API_reference/Feed/Featured_content)). This way, the request https://api.wikimedia.org/feed/v1/wikipedia/fr/featured/2021/12/06 does not return tfa info. Same for Spanish and Portuguese. For this reason, we do not use this specific endpoint.\n",
    "\n",
    "### 1.1 Fetching featured articles using Mediawiki's action API\n",
    "\n",
    "We will use each [Wikipedias' action API](https://www.mediawiki.org/wiki/API:Main_page) to retrive:\n",
    "\n",
    "1. the list of all featured articles for each language\n",
    "2. the wikicode and some metadata of each featured article\n",
    "\n",
    "The action API has the following URL:\n",
    "\n",
    "`https://{lang}.wikipedia.org/w/api.php?`\n",
    "\n",
    "The following request, for example, retrieves the first 15 featured articles for the category \"Articles de qualité\" in French Wikipedia:"
   ]
  },
  {
   "cell_type": "code",
   "execution_count": 3,
   "metadata": {},
   "outputs": [],
   "source": [
    "title = urllib.parse.unquote(\"Cat%C3%A9gorie:Article_de_qualit%C3%A9\") # category name for featured articles in French Wikipedia\n",
    "\n",
    "PARAMS = {\n",
    "    \"action\": \"query\",\n",
    "    \"list\": \"categorymembers\",\n",
    "    \"cmtitle\": title,\n",
    "    \"cmlimit\": 15,\n",
    "    \"format\": \"json\"\n",
    "}\n",
    "\n",
    "response = requests.get(\n",
    "    url='https://fr.wikipedia.org/w/api.php?', \n",
    "    params=PARAMS\n",
    ")\n",
    "\n",
    "response_data = response.json()"
   ]
  },
  {
   "cell_type": "markdown",
   "metadata": {},
   "source": [
    "There is a max of 500 per request. In order to retrieve all the members of the category, we should add the parameter `cmcontinue` to our request as follows: we get the value of `cmcontinue` from the response of the first request and pass it to the following request. This repeats until the end of the list. See API doc for more details on listing category members: https://www.mediawiki.org/wiki/API:Categorymembers."
   ]
  },
  {
   "cell_type": "code",
   "execution_count": 4,
   "metadata": {},
   "outputs": [
    {
     "data": {
      "text/plain": [
       "'page|2a2e38324232443a30324e01428844880901dc10|52519'"
      ]
     },
     "execution_count": 4,
     "metadata": {},
     "output_type": "execute_result"
    }
   ],
   "source": [
    "response_data['continue']['cmcontinue'] # here is the reference of the starting point for the next request"
   ]
  },
  {
   "cell_type": "markdown",
   "metadata": {},
   "source": [
    "In the response, we obtain a list showing the pageid and the title of each article:"
   ]
  },
  {
   "cell_type": "code",
   "execution_count": 5,
   "metadata": {},
   "outputs": [
    {
     "data": {
      "text/plain": [
       "[{'pageid': 507899, 'ns': 4, 'title': 'Wikipédia:Articles de qualité'},\n",
       " {'pageid': 9253139, 'ns': 0, 'title': '1 000 kilomètres de Spa 2009'},\n",
       " {'pageid': 10267261, 'ns': 0, 'title': '6 Heures du Castellet 2011'},\n",
       " {'pageid': 91996, 'ns': 0, 'title': '32X'},\n",
       " {'pageid': 605584, 'ns': 0, 'title': 'Les 101 Dalmatiens (film, 1961)'},\n",
       " {'pageid': 5008651, 'ns': 0, 'title': 'A Different Corner'},\n",
       " {'pageid': 639219, 'ns': 0, 'title': \"A Hard Day's Night (album)\"},\n",
       " {'pageid': 6672844, 'ns': 0, 'title': \"À l'Olympia (album d'Alan Stivell)\"},\n",
       " {'pageid': 124634, 'ns': 0, 'title': 'À la croisée des mondes'},\n",
       " {'pageid': 1486250, 'ns': 0, 'title': \"L'Abbaye de Northanger\"},\n",
       " {'pageid': 11085052, 'ns': 0, 'title': 'Abbaye Saint-Paul de Cormery'},\n",
       " {'pageid': 1210952, 'ns': 0, 'title': 'Abbaye Saint-Victor de Marseille'},\n",
       " {'pageid': 4293975, 'ns': 0, 'title': \"Parc national d'Abisko\"},\n",
       " {'pageid': 1415801, 'ns': 0, 'title': 'Acanthaster planci'},\n",
       " {'pageid': 3906668,\n",
       "  'ns': 0,\n",
       "  'title': 'Accident sur la base de Fairchild en 1994'}]"
      ]
     },
     "execution_count": 5,
     "metadata": {},
     "output_type": "execute_result"
    }
   ],
   "source": [
    "response_data['query']['categorymembers']"
   ]
  },
  {
   "cell_type": "markdown",
   "metadata": {},
   "source": [
    "If the item is a featured article, `ns` (namespace) is `0`. So, to avoid retriving other items (meta-pages about other categories, for example) elements having other values for this key must be discarded (cf. Retrieve article data below).\n",
    "\n",
    "Let's request all the featured articles for each language and dump the response to a json:"
   ]
  },
  {
   "cell_type": "code",
   "execution_count": 6,
   "metadata": {},
   "outputs": [],
   "source": [
    "# the name of the category in each language\n",
    "catname_bylang = {\n",
    "    'en': 'Category:Featured_articles',\n",
    "    'es': 'Categor%C3%ADa:Wikipedia:Art%C3%ADculos_destacados',\n",
    "    'fr': 'Cat%C3%A9gorie:Article_de_qualit%C3%A9',\n",
    "    'pt': 'Categoria:!Artigos_destacados',\n",
    "}"
   ]
  },
  {
   "cell_type": "code",
   "execution_count": 7,
   "metadata": {},
   "outputs": [
    {
     "name": "stderr",
     "output_type": "stream",
     "text": [
      "Retrieving featured articles: 100%|██████████| 4/4 [00:00<00:00, 176.40it/s]\n"
     ]
    }
   ],
   "source": [
    "for lang in tqdm(catname_bylang, desc='Retrieving featured articles'):\n",
    "    \n",
    "    MEDIAWIKI_API_URL = f'https://{lang}.wikipedia.org/w/api.php?'\n",
    "    \n",
    "    category_title = urllib.parse.unquote(catname_bylang[lang])\n",
    "    cmcont = \"start\"\n",
    "    i = 0\n",
    "    \n",
    "    while (cmcont == \"start\") or cmcont.startswith('page'):\n",
    "        i += 1\n",
    "        filename = f'featured-articles/{lang}-{i:02}.json'\n",
    "        \n",
    "        if os.path.isfile(filename):\n",
    "            with open(filename) as fi:\n",
    "                featured_art_json = json.load(fi)\n",
    "                if 'continue' in featured_art_json:\n",
    "                    cmcont = featured_art_json['continue']['cmcontinue']\n",
    "                else:\n",
    "                    cmcont = \"end\"\n",
    "\n",
    "            continue\n",
    "        \n",
    "        PARAMS = {\n",
    "            \"action\": \"query\",\n",
    "            \"list\": \"categorymembers\",\n",
    "            \"cmtitle\": category_title,\n",
    "            \"cmlimit\": \"max\", \n",
    "            \"format\": \"json\",\n",
    "            \"curtimestamp\": True\n",
    "        }\n",
    "            \n",
    "        if cmcont.startswith('page'):\n",
    "            PARAMS[\"cmcontinue\"]=cmcont\n",
    "\n",
    "        response = requests.get(\n",
    "            url=MEDIAWIKI_API_URL, \n",
    "            params=PARAMS,\n",
    "            headers=HEADER\n",
    "        )\n",
    "\n",
    "        data = response.json()\n",
    "\n",
    "        if response.status_code == 200:\n",
    "\n",
    "            if 'continue' in data:\n",
    "                cmcont = data['continue']['cmcontinue']\n",
    "            \n",
    "            else:\n",
    "                cmcont='categoryend'\n",
    "\n",
    "            with open(filename, 'w') as fo:\n",
    "                fo.write(json.dumps(data))"
   ]
  },
  {
   "cell_type": "markdown",
   "metadata": {},
   "source": [
    "### 1.2 Retrieve featured articles data\n",
    "\n",
    "Now that we have the pageids of all the featured articles, we can use them to retrieve the URL, the content and the id of the last edition (`revid`). First, we load the information from the json and we build a dataframe where we will store the data for each featured article:"
   ]
  },
  {
   "cell_type": "code",
   "execution_count": 49,
   "metadata": {},
   "outputs": [],
   "source": [
    "dfs = []\n",
    "\n",
    "for fname in sorted(os.listdir('featured-articles')):\n",
    "    if fname.endswith('.json'):\n",
    "        \n",
    "        wikilang = fname.split('-')[0]\n",
    "        \n",
    "        with open(f'featured-articles/{fname}') as fi:\n",
    "            featured_arts = json.load(fi)\n",
    "            \n",
    "        df = pd.DataFrame(featured_arts['query']['categorymembers'])\n",
    "        df['wiki_lang'] = wikilang\n",
    "        df = df[df['ns'] == 0] # discard items that are not featured articles\n",
    "        df.drop('ns', axis='columns', inplace = True)\n",
    "\n",
    "        dfs.append(df)\n",
    "    \n",
    "articles_data = pd.concat(dfs, ignore_index= True)\n",
    "articles_data.rename(columns={'title':'article_title'}, inplace = True)\n",
    "articles_data.drop_duplicates(inplace = True)"
   ]
  },
  {
   "cell_type": "code",
   "execution_count": 50,
   "metadata": {},
   "outputs": [
    {
     "data": {
      "text/html": [
       "<div>\n",
       "<style scoped>\n",
       "    .dataframe tbody tr th:only-of-type {\n",
       "        vertical-align: middle;\n",
       "    }\n",
       "\n",
       "    .dataframe tbody tr th {\n",
       "        vertical-align: top;\n",
       "    }\n",
       "\n",
       "    .dataframe thead th {\n",
       "        text-align: right;\n",
       "    }\n",
       "</style>\n",
       "<table border=\"1\" class=\"dataframe\">\n",
       "  <thead>\n",
       "    <tr style=\"text-align: right;\">\n",
       "      <th></th>\n",
       "      <th>pageid</th>\n",
       "      <th>article_title</th>\n",
       "      <th>wiki_lang</th>\n",
       "    </tr>\n",
       "  </thead>\n",
       "  <tbody>\n",
       "    <tr>\n",
       "      <th>0</th>\n",
       "      <td>33653136</td>\n",
       "      <td>? (film)</td>\n",
       "      <td>en</td>\n",
       "    </tr>\n",
       "    <tr>\n",
       "      <th>1</th>\n",
       "      <td>1849799</td>\n",
       "      <td>0.999...</td>\n",
       "      <td>en</td>\n",
       "    </tr>\n",
       "    <tr>\n",
       "      <th>2</th>\n",
       "      <td>9702578</td>\n",
       "      <td>1 − 2 + 3 − 4 + ⋯</td>\n",
       "      <td>en</td>\n",
       "    </tr>\n",
       "    <tr>\n",
       "      <th>3</th>\n",
       "      <td>48723612</td>\n",
       "      <td>1st Cavalry Division (Kingdom of Yugoslavia)</td>\n",
       "      <td>en</td>\n",
       "    </tr>\n",
       "    <tr>\n",
       "      <th>4</th>\n",
       "      <td>64662351</td>\n",
       "      <td>1st Missouri Field Battery</td>\n",
       "      <td>en</td>\n",
       "    </tr>\n",
       "    <tr>\n",
       "      <th>...</th>\n",
       "      <td>...</td>\n",
       "      <td>...</td>\n",
       "      <td>...</td>\n",
       "    </tr>\n",
       "    <tr>\n",
       "      <th>15065</th>\n",
       "      <td>132185</td>\n",
       "      <td>Yorkshire terrier</td>\n",
       "      <td>pt</td>\n",
       "    </tr>\n",
       "    <tr>\n",
       "      <th>15066</th>\n",
       "      <td>2269483</td>\n",
       "      <td>You Belong with Me</td>\n",
       "      <td>pt</td>\n",
       "    </tr>\n",
       "    <tr>\n",
       "      <th>15067</th>\n",
       "      <td>4779921</td>\n",
       "      <td>You Don't Know What to Do</td>\n",
       "      <td>pt</td>\n",
       "    </tr>\n",
       "    <tr>\n",
       "      <th>15068</th>\n",
       "      <td>1585284</td>\n",
       "      <td>You Know I'm No Good</td>\n",
       "      <td>pt</td>\n",
       "    </tr>\n",
       "    <tr>\n",
       "      <th>15069</th>\n",
       "      <td>2929652</td>\n",
       "      <td>Álvaro de Zúñiga y Guzmán</td>\n",
       "      <td>pt</td>\n",
       "    </tr>\n",
       "  </tbody>\n",
       "</table>\n",
       "<p>10570 rows × 3 columns</p>\n",
       "</div>"
      ],
      "text/plain": [
       "         pageid                                 article_title wiki_lang\n",
       "0      33653136                                      ? (film)        en\n",
       "1       1849799                                      0.999...        en\n",
       "2       9702578                             1 − 2 + 3 − 4 + ⋯        en\n",
       "3      48723612  1st Cavalry Division (Kingdom of Yugoslavia)        en\n",
       "4      64662351                    1st Missouri Field Battery        en\n",
       "...         ...                                           ...       ...\n",
       "15065    132185                             Yorkshire terrier        pt\n",
       "15066   2269483                            You Belong with Me        pt\n",
       "15067   4779921                     You Don't Know What to Do        pt\n",
       "15068   1585284                          You Know I'm No Good        pt\n",
       "15069   2929652                     Álvaro de Zúñiga y Guzmán        pt\n",
       "\n",
       "[10570 rows x 3 columns]"
      ]
     },
     "execution_count": 50,
     "metadata": {},
     "output_type": "execute_result"
    }
   ],
   "source": [
    "articles_data"
   ]
  },
  {
   "cell_type": "markdown",
   "metadata": {},
   "source": [
    "We add a new column containing the URL of each article using the information from the article title and the language of the wikipedia:"
   ]
  },
  {
   "cell_type": "code",
   "execution_count": 51,
   "metadata": {},
   "outputs": [],
   "source": [
    "articles_data['article_url'] = \"https://\"+articles_data['wiki_lang']+\".wikipedia.org/wiki/\"+articles_data['article_title'].map(urllib.parse.quote)"
   ]
  },
  {
   "cell_type": "code",
   "execution_count": 52,
   "metadata": {},
   "outputs": [
    {
     "data": {
      "text/html": [
       "<div>\n",
       "<style scoped>\n",
       "    .dataframe tbody tr th:only-of-type {\n",
       "        vertical-align: middle;\n",
       "    }\n",
       "\n",
       "    .dataframe tbody tr th {\n",
       "        vertical-align: top;\n",
       "    }\n",
       "\n",
       "    .dataframe thead th {\n",
       "        text-align: right;\n",
       "    }\n",
       "</style>\n",
       "<table border=\"1\" class=\"dataframe\">\n",
       "  <thead>\n",
       "    <tr style=\"text-align: right;\">\n",
       "      <th></th>\n",
       "      <th>pageid</th>\n",
       "      <th>article_title</th>\n",
       "      <th>wiki_lang</th>\n",
       "      <th>article_url</th>\n",
       "    </tr>\n",
       "  </thead>\n",
       "  <tbody>\n",
       "    <tr>\n",
       "      <th>0</th>\n",
       "      <td>33653136</td>\n",
       "      <td>? (film)</td>\n",
       "      <td>en</td>\n",
       "      <td>https://en.wikipedia.org/wiki/%3F%20%28film%29</td>\n",
       "    </tr>\n",
       "    <tr>\n",
       "      <th>1</th>\n",
       "      <td>1849799</td>\n",
       "      <td>0.999...</td>\n",
       "      <td>en</td>\n",
       "      <td>https://en.wikipedia.org/wiki/0.999...</td>\n",
       "    </tr>\n",
       "    <tr>\n",
       "      <th>2</th>\n",
       "      <td>9702578</td>\n",
       "      <td>1 − 2 + 3 − 4 + ⋯</td>\n",
       "      <td>en</td>\n",
       "      <td>https://en.wikipedia.org/wiki/1%20%E2%88%92%202%20%2B%203%20%E2%88%92%204%20%2B%20%E2%8B%AF</td>\n",
       "    </tr>\n",
       "    <tr>\n",
       "      <th>3</th>\n",
       "      <td>48723612</td>\n",
       "      <td>1st Cavalry Division (Kingdom of Yugoslavia)</td>\n",
       "      <td>en</td>\n",
       "      <td>https://en.wikipedia.org/wiki/1st%20Cavalry%20Division%20%28Kingdom%20of%20Yugoslavia%29</td>\n",
       "    </tr>\n",
       "    <tr>\n",
       "      <th>4</th>\n",
       "      <td>64662351</td>\n",
       "      <td>1st Missouri Field Battery</td>\n",
       "      <td>en</td>\n",
       "      <td>https://en.wikipedia.org/wiki/1st%20Missouri%20Field%20Battery</td>\n",
       "    </tr>\n",
       "    <tr>\n",
       "      <th>...</th>\n",
       "      <td>...</td>\n",
       "      <td>...</td>\n",
       "      <td>...</td>\n",
       "      <td>...</td>\n",
       "    </tr>\n",
       "    <tr>\n",
       "      <th>15065</th>\n",
       "      <td>132185</td>\n",
       "      <td>Yorkshire terrier</td>\n",
       "      <td>pt</td>\n",
       "      <td>https://pt.wikipedia.org/wiki/Yorkshire%20terrier</td>\n",
       "    </tr>\n",
       "    <tr>\n",
       "      <th>15066</th>\n",
       "      <td>2269483</td>\n",
       "      <td>You Belong with Me</td>\n",
       "      <td>pt</td>\n",
       "      <td>https://pt.wikipedia.org/wiki/You%20Belong%20with%20Me</td>\n",
       "    </tr>\n",
       "    <tr>\n",
       "      <th>15067</th>\n",
       "      <td>4779921</td>\n",
       "      <td>You Don't Know What to Do</td>\n",
       "      <td>pt</td>\n",
       "      <td>https://pt.wikipedia.org/wiki/You%20Don%27t%20Know%20What%20to%20Do</td>\n",
       "    </tr>\n",
       "    <tr>\n",
       "      <th>15068</th>\n",
       "      <td>1585284</td>\n",
       "      <td>You Know I'm No Good</td>\n",
       "      <td>pt</td>\n",
       "      <td>https://pt.wikipedia.org/wiki/You%20Know%20I%27m%20No%20Good</td>\n",
       "    </tr>\n",
       "    <tr>\n",
       "      <th>15069</th>\n",
       "      <td>2929652</td>\n",
       "      <td>Álvaro de Zúñiga y Guzmán</td>\n",
       "      <td>pt</td>\n",
       "      <td>https://pt.wikipedia.org/wiki/%C3%81lvaro%20de%20Z%C3%BA%C3%B1iga%20y%20Guzm%C3%A1n</td>\n",
       "    </tr>\n",
       "  </tbody>\n",
       "</table>\n",
       "<p>10570 rows × 4 columns</p>\n",
       "</div>"
      ],
      "text/plain": [
       "         pageid                                 article_title wiki_lang  \\\n",
       "0      33653136                                      ? (film)        en   \n",
       "1       1849799                                      0.999...        en   \n",
       "2       9702578                             1 − 2 + 3 − 4 + ⋯        en   \n",
       "3      48723612  1st Cavalry Division (Kingdom of Yugoslavia)        en   \n",
       "4      64662351                    1st Missouri Field Battery        en   \n",
       "...         ...                                           ...       ...   \n",
       "15065    132185                             Yorkshire terrier        pt   \n",
       "15066   2269483                            You Belong with Me        pt   \n",
       "15067   4779921                     You Don't Know What to Do        pt   \n",
       "15068   1585284                          You Know I'm No Good        pt   \n",
       "15069   2929652                     Álvaro de Zúñiga y Guzmán        pt   \n",
       "\n",
       "                                                                                       article_url  \n",
       "0                                                   https://en.wikipedia.org/wiki/%3F%20%28film%29  \n",
       "1                                                           https://en.wikipedia.org/wiki/0.999...  \n",
       "2      https://en.wikipedia.org/wiki/1%20%E2%88%92%202%20%2B%203%20%E2%88%92%204%20%2B%20%E2%8B%AF  \n",
       "3         https://en.wikipedia.org/wiki/1st%20Cavalry%20Division%20%28Kingdom%20of%20Yugoslavia%29  \n",
       "4                                   https://en.wikipedia.org/wiki/1st%20Missouri%20Field%20Battery  \n",
       "...                                                                                            ...  \n",
       "15065                                            https://pt.wikipedia.org/wiki/Yorkshire%20terrier  \n",
       "15066                                       https://pt.wikipedia.org/wiki/You%20Belong%20with%20Me  \n",
       "15067                          https://pt.wikipedia.org/wiki/You%20Don%27t%20Know%20What%20to%20Do  \n",
       "15068                                 https://pt.wikipedia.org/wiki/You%20Know%20I%27m%20No%20Good  \n",
       "15069          https://pt.wikipedia.org/wiki/%C3%81lvaro%20de%20Z%C3%BA%C3%B1iga%20y%20Guzm%C3%A1n  \n",
       "\n",
       "[10570 rows x 4 columns]"
      ]
     },
     "execution_count": 52,
     "metadata": {},
     "output_type": "execute_result"
    }
   ],
   "source": [
    "articles_data"
   ]
  },
  {
   "cell_type": "markdown",
   "metadata": {},
   "source": [
    "We save this information to a csv file:"
   ]
  },
  {
   "cell_type": "code",
   "execution_count": 35,
   "metadata": {},
   "outputs": [],
   "source": [
    "articles_data.to_csv('featured_articles.csv', index=False)"
   ]
  },
  {
   "cell_type": "markdown",
   "metadata": {},
   "source": [
    "Now we are ready to query Mediawiki's action API again to get the content of each featured article. \n",
    "\n",
    "For example, to retrieve the wikitext and the id of the last edition for the article #3906668 'Accident sur la base de Fairchild en 1994' from French Wikipedia, we can do the following request:"
   ]
  },
  {
   "cell_type": "code",
   "execution_count": 36,
   "metadata": {},
   "outputs": [],
   "source": [
    "pageid = 3906668\n",
    "\n",
    "PARAMS = {\n",
    "    \"action\": \"parse\",\n",
    "    \"pageid\": pageid,\n",
    "    \"prop\": \"wikitext|revid\",\n",
    "    \"format\": \"json\"\n",
    "}\n",
    "\n",
    "response = requests.get(\n",
    "    url='https://fr.wikipedia.org/w/api.php?', \n",
    "    params=PARAMS,\n",
    ")\n",
    "\n",
    "page_data = response.json()"
   ]
  },
  {
   "cell_type": "code",
   "execution_count": 37,
   "metadata": {
    "collapsed": true,
    "jupyter": {
     "outputs_hidden": true
    }
   },
   "outputs": [
    {
     "data": {
      "text/plain": [
       "{'parse': {'title': 'Accident sur la base de Fairchild en 1994',\n",
       "  'pageid': 3906668,\n",
       "  'revid': 186075124,\n",
       "  'wikitext': {'*': '{{En-tête label|AdQ}}\\n{{Infobox Accident de transport\\n  | nom                  = Accident du B-52 sur la base de Fairchild en 1994\\n  | image                = FairchildB52Crash.jpg\\n  | légende              = Le B-52 sur la tranche une seconde avant de toucher le sol.\\n  | date                 = {{date|24|juin|1994|en aéronautique}}\\n  | phase                = Vol d\\'entraînement\\n  | type                 = Erreur de pilotage\\n  | site                 = [[Fairchild Air Force Base]], [[Washington (État)|Washington]], [[États-Unis]]\\n  | passagers            = \\n  | équipage             = 4 militaires\\n  | morts                = 4 militaires\\n  | blessés              = \\n  | survivants           = \\n  | appareil             = [[Boeing B-52 Stratofortress|Boeing B-52H \\'\\'Stratofortress\\'\\']]\\n  | compagnie            = [[United States Air Force]]\\n  | numéro_identification= 61-0026\\n  | latitude             = 47.615\\n  | longitude            = -117.655556\\n  | carte_pays           = États-Unis\\n}}\\n\\nLe {{date|24|juin|1994|en aéronautique}}, un [[Boeing B-52 Stratofortress|Boeing B-52 \\'\\'Stratofortress\\'\\']] baptisé \\'\\'Czar 52\\'\\'<ref name=\"Kern\">{{ouvrage| langue =en| prénom1 =Tony T.| nom1 =Kern| titre = Darker Shades of Blue| sous-titre =The Rogue Pilot}}</ref> s\\'écrase au cours d\\'un vol d\\'entraînement en vue d\\'une démonstration sur la \\'\\'\\'[[Fairchild Air Force Base|base de Fairchild]]\\'\\'\\', entraînant la mort des quatre membres d\\'équipage. L\\'accident s\\'est produit car le commandant de bord, Bud Holland, a piloté l\\'avion hors de ses limites opérationnelles et en a perdu le contrôle. Il en résulta un [[Décrochage (aéronautique)|décrochage]] et la destruction de l\\'appareil par écrasement au sol. L\\'accident fut filmé et les images furent largement diffusées lors des journaux télévisés à travers les  [[États-Unis]]<ref name=\"Big4\">{{en}} Diehl, \\'\\'Silent Knights\\'\\', {{p.|125}}, Thompson, \\'\\'Way, Way Off in the Wild Blue Yonder\\'\\', USAF, \\'\\'AFR 110-14\\'\\', {{p.|2–3}}, et Kern, \\'\\'Darker Shades of Blue\\'\\'</ref>.\\n\\nLe rapport de la commission d\\'enquête conclut que les principaux facteurs ayant favorisé l\\'accident étaient la [[personnalité]] et le [[comportement]] du pilote Bud Holland vis-à-vis des règles de sécurité et la réaction de sa hiérarchie par rapport à celui-ci, ainsi que l\\'enchaînement des événements. Cet accident est utilisé comme [[étude de cas|cas d\\'école]] dans l\\'aéronautique militaire et civile pour l\\'enseignement de la [[Gestion des ressources de l\\'équipage|gestion des équipages]]. En outre, les forces armées américaines utilisent souvent cet accident pendant la formation à la [[sécurité aérienne]] pour sensibiliser le personnel à l\\'importance du respect des règles de sécurité et à la conduite à tenir vis-à-vis de toute personne qui enfreint les procédures de sécurité.\\n\\n== L\\'accident ==\\n\\n[[Fichier:AFwing.png|thumb|left|alt=Schéma de l\\'organisation d\\'une escadre avec ses deux groupes et ses six escadrons|Structure normale d\\'une escadre de l\\'USAF avec ses groupes et ses escadrons.]]\\n\\nLe {{date|24|juin|1994}} à {{heure|7|30}}, heure locale (\\'\\'[[UTC-8|{{lang|en|Pacific Standard Time}}]]\\'\\'), sur la [[Fairchild Air Force Base|base aérienne de Fairchild]], l\\'équipage du [[bombardier (avion)|bombardier]] B-52H \\'\\'Czar52\\'\\' de l\\'USAF stationné à Fairchild se prépare pour un vol d\\'entraînement en vue d\\'une démonstration au cours d\\'un prochain [[meeting aérien]]. L\\'équipage est composé des [[Pilote (aviation)|pilotes]] [[Lieutenant-colonel|Lt.Col]] Arthur « Bud » Holland ({{unité|46|ans}}), Lt.Col Mark McGeehan ({{unité|36|ans}}), [[Colonel|Col.]] Robert Wolff ({{unité|46|ans}}) et de l\\'opérateur système d\\'arme/navigateur radar Lt.Col Ken Huston ({{unité|41|ans}}). Holland est le commandant de bord pour ce vol avec McGeehan comme copilote et Wolff comme observateur de sécurité. Holland est le commandant en second de la section « Évaluation et standardisation » du [[92nd Air Refueling Wing|{{lang|en|92nd Bomb Wing}}]], McGeehan est commandant du {{lang|en|325th Bomb Squadron}}, Wolff est commandant en second du {{lang|en|92nd Bomb Wing}}, et Huston est officier opérations du {{lang|en|325th Bomb Squadron}}<ref>{{en}} Thompson, \\'\\'Way, Way Off in the Wild Blue Yonder\\'\\'. Kern, \\'\\'Darker Shades of Blue\\'\\' et USAF, \\'\\'AFR 110-14\\'\\', {{p.|2–3}}.</ref>{{,}}<ref group=\"note\">Holland, en tant que chef de l\\'évaluation et de la standardisation, était responsable de la connaissance et du respect des normes de vol pour les opérations de l\\'escadre.</ref>.\\n\\nLe plan de vol enchaîne des manœuvres difficiles : passages à basse altitude, virages inclinés à 60°, montée sous forte pente et un [[touch-and-go|touché]] sur la piste 23 de Fairchild. Ce vol était aussi le vol d\\'adieu pour Wolff ; une tradition de l\\'USAF veut que lorsqu\\'un membre d\\'équipage prend sa retraite, il est accueilli à sa descente d\\'avion par ses collègues, ses amis et sa famille et arrosé d\\'eau. Donc ce jour-là, la femme de Wolff et plusieurs de ses proches amis sont présents sur l\\'[[aérodrome]] pour regarder le vol et participer à la cérémonie. La femme de McGeehan et ses deux plus jeunes fils regardent aussi le vol depuis leur maison située non loin<ref>{{en}} Piper, \\'\\'Chain of Events\\'\\', {{p.|136}}, Kern, \\'\\'Darker Shades of Blue\\'\\', et USAF, \\'\\'AFR 110-14\\'\\', {{p.|2–3}}.</ref>.\\n\\nLe B-52 décolle à {{heure|13|58}} et effectue la plupart des évolutions sans incident. Alors qu\\'il se prépare à exécuter le touché sur la piste 23 à la fin de sa présentation, l\\'appareil est obligé de [[Go-around|remettre les gaz]] car un [[Boeing KC-135 Stratotanker|{{nobr|KC-135}} Stratotanker]] vient juste de se poser et est encore sur la piste. Conservant une hauteur-sol de {{unité|75|m}} ({{unité|250|ft}}), Holland demande à la [[Contrôle du trafic aérien|tour de contrôle]] l\\'autorisation d\\'effectuer une boucle à 360° par la gauche, ce qui lui est accordé. Le B-52 commence alors son virage autour de la tour à partir du milieu de la piste. Une zone abritant un site de stockage d\\'[[arme nucléaire|armes nucléaires]]<ref>Diehl, \\'\\'Silent Knights\\'\\', {{p.|125}}.</ref>, dont le survol est interdit, se trouve juste derrière la tour. Il semble qu\\'Holland, pour éviter de traverser cet espace aérien, ait effectué un virage très serré et très incliné tout en maintenant sa faible hauteur ({{unité|75|m}}). Approximativement aux trois quarts de son virage, à {{heure|14|16}}, l\\'appareil s\\'incline à plus de 90°, chute rapidement et touche le sol, explosant et tuant tous les membres d\\'équipage. Le Lt.Col McGeehan était parvenu à s\\'[[Siège éjectable|éjecter]], mais il périt dans la boule de feu créée par l\\'écrasement de l\\'appareil. Il n\\'y a pas de blessé au sol<ref name=\"AFR\">USAF, \\'\\'AFR 110-14\\'\\', toutes les pages.</ref>.\\n\\n== L\\'enquête ==\\n[[Fichier:BGgodsey.jpg|thumb|left|alt=Portrait du général Godsey|Le brigadier-général Orin L. Godsey, qui dirigea l\\'enquête de sécurité après l\\'accident.]]\\n\\nL\\'USAF réunit immédiatement une commission d\\'enquête de sécurité sous la direction du chef de la sécurité de l\\'USAF, le [[Général de brigade|brigadier-général]] Orin L. Godsey. La commission remet un rapport préliminaire le {{date|10|août|1994}} et le rapport final d\\'enquête est publié le {{date|31|janvier|1995}}. Le rapport de sécurité de l\\'US Air Force ne fut diffusé qu\\'au personnel du [[Département de la Défense des États-Unis]] et ne fut pas rendu public. Un comité d\\'enquête sur l\\'accident, appelé « Enquête AFR 110-14 », a publié un rapport séparé en 1995. Contrairement à l\\'enquête de sécurité de l\\'USAF, le rapport AFR 110-14 a été rendu public<ref>Air Force Link, \\'\\'Brigadier General Orin L. Godsey\\'\\', et USAF, \\'\\'AFR 110-14\\'\\', {{p.|2–3}}.</ref>.\\n\\nL\\'enquête AFR 110-14 identifie plusieurs facteurs ayant contribué à l\\'accident, dont l\\'enchaînement réel de l\\'accident, la personnalité et le comportement antérieur de Bud Holland, l\\'absence de surveillance et de mesures correctives de l\\'USAF vis-à-vis de Holland, la préparation et l\\'exécution de la mission, et d\\'autres facteurs environnementaux et humains<ref name=\"AFR\"/>.\\n\\n=== Enchaînement des événements ===\\n[[Fichier:Accelerated stall fr.gif|thumb|upright=1.5|alt=Schéma montrant les force s\\'exerçant sur l\\'avion en virage|Illustration du décrochage en virage.<br />Plus le virage est serré, plus la [[portance (mécanique des fluides)|portance]] (et donc l\\'[[angle d\\'attaque]]) doit être élevée pour contrer le [[poids apparent]] (la somme de la force centrifuge et du poids). Le décrochage se produit donc à une vitesse plus élevée qu\\'à plat.]]\\n\\nL\\'enquête montre que lorsque le B-52 entame son dernier virage autour de la tour de contrôle, la vitesse indiquée était de {{unité|337|km/h}} ({{unité|182|[[Nœud (unité)|kt]]}}). Lorsque Holland amorce son virage, il augmente la poussée des moteurs, mais cette action est trop tardive car les [[Turboréacteur|réacteurs]] mettent {{nombre|8|secondes}} à réagir à l\\'action de la commande de gaz. Bien que l\\'[[anémomètre]] soit visible de l\\'ensemble des quatre membres d\\'équipage, ils laissent la vitesse décroître. Huit secondes avant l\\'impact, la vitesse indiquée de l\\'appareil était descendue à {{unité|269|km/h}} ({{unité|145|kt}}) et le roulis de l\\'appareil dépassait les 60°. C\\'est à ce moment-là que soit Holland soit McGeehan met le manche et le palonnier complètement à droite tout en redressant le nez de l\\'appareil et que l\\'avion entre dans une phase de [[décrochage (aéronautique)|décrochage]] en virage (ou décrochage sous [[facteur de charge (aérodynamique)|facteur de charge]]). Ce phénomène, le décrochage en virage, se produit à une vitesse plus élevée que la vitesse de décrochage normale calculée pour un vol en palier. À cause de son roulis dépassant les 60°, la vitesse de décrochage de l\\'avion était à ce moment de {{unité|272|km/h}} ({{unité|147|kt}}). Donc, en volant à {{unité|269|km/h}} ({{unité|145|kt}}), l\\'appareil ne pouvait être maintenu à son altitude ; une augmentation de l\\'incidence dans le but de maintenir l\\'altitude ne pouvait que conduire au décrochage et la hauteur était insuffisante pour sortir du décrochage avant de heurter le sol<ref name=\"AFR\"/>.\\n\\n=== Comportement antérieur de Holland et réactions de la hiérarchie de l\\'USAF ===\\nLa commission sur l\\'accident établit que la personnalité de Bud Holland constituait un élément  significatif relativement aux causes préalables à cet accident. Le personnel de l\\'USAF attesta que Holland avait acquis une réputation de pilote impulsif qui bafouait régulièrement les règles de sécurité. Il volait souvent en dessous de l\\'altitude minimale de sécurité, dépassait les limites d\\'inclinaison en virage et les taux de montée<ref name=\"Kern\"/>{{,}}<ref name=\"Big2\">USAF, \\'\\'AFR 110-14\\'\\', {{p.|3–4}}</ref>.\\n\\nUn incident eut lieu en [[1991 en aéronautique|1991]] quand un B-52 piloté par Holland effectua un tour au-dessus d\\'un stade de [[softball]] où sa fille jouait. Débutant à {{unité|760|m}} ({{unité|2500|[[pied (unité)|ft]]}}) de hauteur-sol, l\\'appareil de Holland effectua son tour avec une inclinaison de 65°, se retrouvant dans une situation de virage engagé. Un témoin décrivit la scène comme une « spirale mortelle », le nez de l\\'appareil ayant continué à descendre durant la manœuvre et l\\'inclinaison atteignant les 80°. Après avoir perdu {{unité|300|m}} ({{unité|1000|ft}}), Holland put reprendre le contrôle de l\\'appareil<ref>Diehl, \\'\\'Silent Knights\\'\\', {{p.|125}}, Thompson, \\'\\'Way, Way Off in the Wild Blue Yonder\\'\\'</ref>{{,}}<ref name=\"USAF\">USAF, \\'\\'AFR 110-14\\'\\', {{p.|3–4}}.</ref>.\\n\\n[[Fichier:B52.climbout.arp.jpg|thumb|alt=Un B-52H au décollage.|left|Un B-52H au décollage pour une présentation avec une pente de montée normale.]]\\n\\nLe {{date|19|mai|1991}} pour le meeting aérien de Fairchild, Holland était le commandant du B-52 effectuant la démonstration aérienne. Durant ce vol Holland viola plusieurs règles de sécurité, dont une inclinaison et une pente trop importante, l\\'interdiction du survol du public et peut-être aussi le non-respect de l\\'altitude minimale. Le commandant de la base et de l\\'[[escadre]], le colonel Arne Weinman, comme l\\'encadrement, observa la démonstration mais ne prit aucune sanction<ref name=\"Kern\"/>.\\n\\nLe {{date|12|juillet|1991}}, Holland était aux commandes d\\'un B-52 pour un survol de la cérémonie de passation de commandement du {{lang|en|325th Bomb Squadron}}. Pendant la répétition et le survol réel, l\\'appareil de Holland vola à une altitude de {{unité|30|m}} ({{unité|100|ft}}) — bien en dessous de l\\'altitude minimale autorisée —, effectua un virage incliné à plus de 45°, dépassa la pente maximum et réalisa un [[renversement (aviation)|renversement]]. Le renversement n\\'est pas spécifiquement interdit mais n\\'est pas recommandé car il peut endommager l\\'avion. Après avoir assisté au vol le colonel Weinman et son adjoint, le colonel Julich commandant des opérations, réprimandèrent verbalement Holland mais ne prirent pas de sanctions officielles<ref name=\"Big2\"/>.\\n\\nLe {{date|17|mai|1992}} pour le meeting aérien de Fairchild, Holland est de nouveau aux commandes du B-52 qui effectue la démonstration aérienne. Pendant ce vol, Holland viole sévèrement les règles de sécurité, virages serrés à faible altitude à plus de 45° d\\'inclinaison et grand angle de montée, estimé à plus de 60° que Holland termine par un renversement. Le nouveau commandant d\\'escadre, le colonel Mickael G. Ruotsala, ne prend apparemment aucune sanction. Une semaine plus tard, le nouveau commandant adjoint des opérations, le colonel Capotosti, de sa propre initiative avertit  Holland que s\\'il violait encore une fois les règles de sécurité, il l\\'interdirait de vol. Capotosti ne fait pas de compte-rendu de son avertissement et ne prend aucune autre sanction officielle<ref name=\"Kern\"/>.\\n\\nLes 14 et {{date-|15 avril 1993}}, Holland est chef de mission pour une mission d\\'entraînement de deux B-52 sur un champ de tir près de [[Guam]] dans l\\'[[océan Pacifique]]. Pendant la mission, il fait voler son avion plus près de l\\'autre appareil que la réglementation ne le permet. Holland demande aussi à son navigateur de filmer le largage des bombes à partir de la soute à bombe, ce qui est aussi contraire au règlement. Plus tard, le navigateur de Holland montrera la vidéo à trois cadres de la base de Fairchild. Le premier, le lieutenant-colonel Bullock, le commandant du {{lang|en|325th Bomb Squadron}}, ne fera rien à ce sujet et aurait même essayé d\\'utiliser la vidéo pour [[Chantage|faire pression]] sur le navigateur pour qu\\'il accepte un poste de planificateur de mission pour l\\'escadre. Le deuxième, le commandant adjoint aux opérations du groupe, le lieutenant-colonel Harper, demandera au membre d\\'équipage de dissimuler la preuve. Le troisième, le commandant adjoint aux opérations, aurait répondu à propos de la vidéo : « OK je ne veux rien savoir au sujet de cette vidéo. Je n\\'en ai rien à faire. »<ref>Diehl, \\'\\'Silent Knights\\'\\', {{p.|125}}, Kern, \\'\\'Darker Shades of Blue\\'\\'.</ref>{{,}}<ref group=\"note\">L\\'article ne dit pas s\\'il s\\'agit du colonel Capotosti ou du nouveau commandant, le colonel William E. Pellerin.</ref>\\n\\nLe {{date|8|août|1993}}, Holland est une fois de plus aux commandes du B-52 de démonstration pour le meeting aérien de Fairchild. Là encore le profil du vol inclut des virages avec des inclinaisons à plus de 45°, des passages à basse altitude et autres manœuvres en montée à forte pente atteignant cette fois plus de 80°. L\\'angle est tellement élevé que le carburant sort par les [[évent]]s des réservoirs d\\'aile de l\\'appareil. Le nouveau commandant d\\'escadre le brigadier-général James M. Richards, et le nouveau commandant adjoint aux opérations, le colonel William E. Pellerin, sont tous les deux témoins de la démonstration mais ne font rien<ref name=\"Kern\"/>{{,}}<ref>Air Force Link, \\'\\'Brigadier General James M. Richards USAF biography\\'\\'</ref>{{,}}<ref name=\"Thompson\">Thompson, \\'\\'Way, Way Off in the Wild Blue Yonder\\'\\'</ref>.\\n\\nLe {{date|10|mars|1994}}, Holland est le commandant de bord d\\'un B-52 lors une mission d\\'entraînement au bombardement sur le champ de tir de [[Comté de Yakima|Yakima]] ; il doit donner la possibilité à un photographe accrédité de prendre en photo l\\'appareil larguant des bombes d\\'entraînement. La hauteur minimum autorisée sur cette zone était de {{unité|150|m}} ({{unité|500|ft}}). Durant cette mission, Holland est filmé passant une ligne de crête à seulement {{unité|10|m}} ({{unité|30|ft}}) du sol. L\\'équipe photographique, craignant pour sa sécurité, cesse de filmer et se met à l\\'abri alors que l\\'avion de Holland les survole une seconde fois à une hauteur estimée à {{unité|1|m}}. Le copilote de Holland affirme avoir repris les commandes  pour éviter que Holland ne fasse s\\'écraser l\\'appareil sur la crête pendant que les deux autres membres d\\'équipage lui criaient « Monte ! Monte ! ». Holland répondit en rigolant et en traitant l\\'un d\\'eux de « gonzesse »<ref name=\"Big4\" />.\\n\\n[[Image:Mcgeehan.jpg|thumb|alt=Portrait du lieutenant-colonel McGeehan.|left|Mark McGeehan, le commandant d\\'escadron qui refusa de laisser ses équipages voler avec Holland s\\'il n\\'était pas présent dans l\\'appareil.]]\\n\\nAprès cette mission, l\\'équipage décide de ne plus jamais voler avec Holland et, rend compte de l\\'incident au commandant de l\\'escadron, le lieutenant-colonel Mark McGeehan. McGeehan rapporte l\\'incident à Pellerin et recommande que Holland soit interdit de vol. Pellerin convoque Holland, le réprimande verbalement et l\\'avertit de ne pas recommencer ce comportement, mais se refuse à lui interdire de voler. Il ne consigne pas non plus l\\'incident ni la réprimande et laisse son supérieur dans l\\'ignorance de ce qui s\\'est passé. McGeehan décide ensuite que, pour protéger ses équipages, il sera le copilote pour les futures missions où Holland serait le commandant de bord. Les faits semblent indiquer qu\\'après cet incident une « animosité considérable » devait exister entre Holland et McGeehan<ref name=\"USAF\"/>{{,}}<ref name=\"Thompson\"/>{{,}}<ref>Kern, \\'\\'Darker Shades of Blue\\'\\'</ref>{{,}}<ref>Lou Holtz/Upper Ohio Valley Hall of Fame, \\'\\'Lt. Col. Mark C. McGeehan\\'\\'.</ref>.\\n\\n[[Fichier:Fairchild B-52 crash overview fr.png|thumb|alt=Trajectoire de l\\'appareil autour de la tour.|Dernier virage de l\\'appareil :\\n{{Légende/Début}}\\n{{Ligne de légende|#268CFF solid 2px|Trajectoire de l\\'appareil}}\\n{{Légende|black|Piste 23 de Fairchild}}\\n{{Légende|#E5E5E5|Taxiways et parkings}}\\n{{Légende|#FFCEBF|Zone d\\'interdiction de survol servant de zone de stockage d\\'armes nucléaires}}\\n{{Légende/Fin}}\\n]]\\n\\nAu cours des préparatifs pour le meeting de Fairchild de 1994, Holland est encore choisi pour effectuer la présentation du B-52. Il expose sa présentation au nouveau commandant d\\'escadre, le colonel William Brooks, le {{date|15|juin|1994}} ; elle inclut la violation de nombreuses règles, dont des virages serrés à forte inclinaison, des passages bas et des montées à forte pente. Brooks ordonne à Holland de ne pas dépasser 45° d\\'inclinaison et 25° de pente pendant la démonstration. Pendant le premier entraînement, le {{date-|17 juin}}, Holland viole à plusieurs reprises ces ordres. Brooks en est témoin mais ne fait rien. Pellerin qui vole avec Holland lors de cette démonstration rend compte à Brooks que « le profil de la démonstration lui semble bon, sûr et bien à l\\'intérieur des paramètres ». L\\'entraînement suivant, le {{date-|24 juin}}, se termine par l\\'accident<ref name=\"Big2\" />.\\n\\n=== Autres facteurs ===\\nLe profil de démonstration conçu par Holland prévoyait un virage à 360° autour de la tour de contrôle de Fairchild. Holland n\\'avait jamais tenté cette manœuvre dans les démonstrations précédentes. Pendant le dernier vol, Holland effectua une série de virages à 60° d\\'inclinaison et une montée à 68° en violation des ordres de Brooks. Rien ne démontre que McGeehan ou Wolff tentèrent d\\'intervenir pendant qu\\'Holland effectuait ces manœuvres<ref name=\"AFR\"/>.\\n\\nInitialement, Pellerin devait  participer au vol, comme il l\\'avait fait pour celui du {{date-|17 juin}}. Pellerin, cependant, n\\'était pas disponible pour le vol du {{date-|24 juin}} et Wolff fut choisi comme remplaçant au sein de l\\'équipage. En raison du court préavis avant son affectation à la mission, Wolff ne participa pas à la préparation du vol et rejoignit l\\'appareil alors que les moteurs tournaient déjà. Wolff n\\'était donc pas au courant du profil de la mission et n\\'eut pas la possibilité de faire part d\\'éventuelles objections avant le décollage<ref name=\"AFR\"/>.\\n\\nTous les membres d\\'équipage impliqués dans l\\'accident n\\'avaient eu que peu d\\'heures de vol dans les mois précédant celui-ci. L\\'équipage du B-52 ne s\\'était apparemment pas aperçu que l\\'appareil avait décroché peu avant l\\'impact, ceci est mis en évidence par l\\'absence d\\'utilisation des techniques de récupération standard sur cet appareil une fois entré en phase de décrochage. Cependant, l\\'enquête montre que même avec les techniques appropriées, l\\'avion était probablement trop bas pour se rétablir avant de toucher le sol<ref name=\"AFR\"/>.\\n\\nQuatre jours avant l\\'accident, le {{date-|20 juin}}, Dean Mellberg, un ancien militaire de l\\'US Air Force émotionnellement perturbé, était entré dans l\\'hôpital de Fairchild et, tirant à plusieurs reprises, avait tué cinq personnes en laissant plusieurs autres, blessées, avant d\\'être abattu par des membres des [[US Air Force Security Forces|forces de sécurité de la force aérienne]]. Cette fusillade a profondément perturbé le personnel de la base de Fairchild et ceci jusque bien après l\\'accident<ref name=\"AFR\"/>.\\n\\n=== Conclusions ===\\n\\nLa commission d\\'enquête conclut que l\\'enchaînement d\\'événements qui conduisit à l\\'accident était principalement attribuable à la [[personnalité]] et au [[comportement]] de Holland, aux réactions (ou à leur absence) de la part de la hiérarchie de l\\'[[United States Air Force|US Air Force]] et, enfin, à la succession des incidents pendant le vol. Le non-respect par Holland des procédures garantissant la sûreté du B-52 qu\\'il commandait et l\\'absence de mesures fermes et cohérentes de la part de ses supérieurs amenèrent Holland à croire qu\\'il pouvait effectuer des manœuvres dangereuses durant son dernier vol, avec pour point d\\'orgue un virage à 360° lent et très incliné autour de la tour de contrôle<ref name=\"Big4\"/>.\\n\\nPendant le dernier vol de Holland, les autres facteurs environnementaux mis en cause incluent l\\'ajout de manœuvres nouvelles (virage à 360° autour de la tour), l\\'insuffisante implication avant-vol du colonel Wolff, et les perturbations causées par la fusillade du {{date-|20 juin}}. Alliés au comportement dangereux de Holland, ces facteurs produisirent les conditions favorables à l\\'accident. Le dernier facteur, relevé par le rapport d\\'enquête de l\\'USAF, est le vent soufflant à {{unité|19|km/h}} ({{unité|10|kt}}) et ses effets sur les manœuvres nécessaires pour réaliser la trajectoire de vol prévue, par rapport au sol<ref name=\"Big4\"/>.\\n\\n== Conséquences ==\\nLe {{date|19|mai|1995}}, Pellerin a plaidé coupable devant une [[cour martiale]] de l\\'USAF pour deux accusations de manquement au devoir pour ses actions, ou leur absence, qui ont contribué à l\\'accident. Il fut condamné à renoncer à {{unité|1500|[[dollar américain|dollars américains]]}} de salaire par mois pendant cinq mois et reçut une réprimande écrite. L\\'US Air Force n\\'a pas révélé si d\\'autres officiers impliqués dans la chaîne d\\'événements ayant conduit à l\\'accident se sont vu imposer des sanctions administratives ou disciplinaires. Les critiques du rapport de sécurité de l\\'USAF établissent que cet accident est un exemple d\\'un ensemble de problèmes liés à l\\'application des procédures de sécurité au sein de l\\'USAF<ref>Diehl, \\'\\'Silent Knights\\'\\', {{p.|126}}, Thompson, \\'\\'Way, Way Off in the Wild Blue Yonder\\'\\', Kern, \\'\\'Darker Shades of Blue\\'\\'</ref>.\\n\\nBien que l\\'enquête sur l\\'accident ait révélé que les procédures et les principes étaient déjà en place pour empêcher un tel accident de se produire, le fait que cet accident soit arrivé a montré que, dans au moins un cas, les politiques de sécurité existantes et leur application avaient été insuffisantes. Afin de réitérer l\\'importance de l\\'adhésion aux politiques de sécurité existantes et de corriger toute infraction à l\\'un de ces principes, l\\'USAF, comme pour chaque accident, a rapidement distribué les conclusions de l\\'enquête sur l\\'accident à toute l\\'armée. Actuellement, l\\'accident est utilisé dans l\\'aviation civile et militaire comme support pour l\\'enseignement de la [[Gestion des ressources de l\\'équipage|gestion des équipages]]. Il est aussi souvent utilisé dans les entraînements à la sécurité comme exemple de l\\'importance de faire respecter les règles de sécurité<ref name=\"Kern\"/>{{,}}<ref>Check-Six.com, \\'\\'The Crash of Czar 52\\'\\'.</ref>.\\n\\n== Voir aussi ==\\n\\n* [[Gestion des ressources de l\\'équipage]]\\n\\n== Notes et références ==\\n=== Notes ===\\n{{Références|groupe=note}}\\n=== Références ===\\n{{Références|colonnes=2}}\\n\\n=== Ouvrages de référence ===\\n* {{Traduction/Référence|en|1994 Fairchild Air Force Base B-52 crash|340163884}}\\n* {{ouvrage\\n | langue =en\\n | nom1 = Diehl\\n | prénom1 = Alan E.\\n | titre = Silent Knights: Blowing the Whistle on Military Accidents and Their Cover-Ups\\n | année = 2003\\n | éditeur = Potomac Books\\n | isbn = 1-57488-544-8\\n}}\\n* {{ouvrage\\n | langue =en\\n | prénom1 =Tony T.\\n | nom1 =Kern\\n | titre = Darker Shades of Blue\\n | sous-titre =The Rogue Pilot\\n | éditeur =McGraw-Hill Professional Publishing\\n | année =1999\\n | isbn =0-07-034927-4\\n}}\\n* {{ouvrage\\n | langue =en\\n | nom1 = Piper\\n | prénom1 = Joan L.\\n | titre = Chain of Events: The Government Cover-up of the Black Hawk Incident and the Friendly-fire Death of Lt. Laura Piper\\n | année = 2001\\n | éditeur = Brassey\\'s\\n | isbn = 1-57488-344-5\\n}}\\n* {{ouvrage\\n | langue =en\\n | nom1 = United States Air Force\\n | prénom1 =\\n | lien auteur = United States Air Force\\n | titre = Summary of AFR 110-14 USAF Accident Investigation Board Report\\n | année = 1994\\n}}\\n\\n=== Ressources internet ===\\n* {{en}} {{Lien web\\n|url=http://www.af.mil/information/bios/bio.asp?bioID=5566\\n|titre=Brigadier General Orin L. Godsey : Biographie du chef de la sécurité de l\\'USAF qui dirigea l\\'enquête initiale\\n|auteur=\\n|année=1996\\n|éditeur=Air Force Link\\n|consulté le=26-01-2010\\n}}\\n* {{en}} {{Lien web\\n|url=http://www.af.mil/information/bios/bio.asp?bioID=6898\\n|titre=Brigadier General James M. Richards : Bombraphie du commandant du 92nd Bomb Wing d\\'août 1992 à août 1993\\n|auteur=\\n|année=1996\\n|éditeur=Air Force Link\\n|consulté le=26-01-2010\\n}}\\n* {{en}} {{Lien web\\n|url=http://www.check-six.com/Crash_Sites/Czar52Crash.htm\\n|titre=The Crash of \\'Czar 52\\'\\n|auteur=\\n|année=2007\\n|éditeur=Check-Six.com\\n|consulté le=26-01-2010\\n}} - Contient des séquences vidéo de l\\'accident.\\n* {{en}} {{Lien web\\n|url=http://www.crm-devel.org/resources/paper/darkblue/darkblue.htm\\n|titre=Darker Shades of Blue: A Case Study of Failed Leadership\\n|auteur=Tony T. Kern\\n|année=1995\\n|éditeur=Neil Krey\\'s CRM Developers Forum\\n|consulté le=26-01-2010\\n}}\\n* {{en}} {{Lien web\\n|url=http://www.louholtzhalloffame.com/honorees/2000/index.html\\n|titre=Lt. Col. Mark C. McGeehan\\n|auteur=\\n|année=2000\\n|éditeur=Lou Holtz/Upper Ohio Valley Hall of Fame\\n|consulté le=26-01-2010\\n}}\\n* {{en}} {{Lien web\\n|url=http://www.time.com/time/magazine/article/0,9171,982358,00.html\\n|titre= Way, Way Off in the Wild Blue Yonder\\n|auteur=Mark Thompson\\n|année=29 mai 1995\\n|éditeur=Time\\n|consulté le=26-01-2010\\n}}\\n* {{YouTube|ReSm7r45_ds|The Crash of Czar 52 at Fairchild AFB, WA, in 1994|en}}\\n* {{en}} {{Lien web\\n|url=https://query.nytimes.com/gst/fullpage.html?res=990CE7DA1038F934A15757C0A963958260\\n|titre=Nuclear Storage Site Linked to Plane Crash\\n|auteur=\\n|année=1995\\n|éditeur=The New York Times\\n|consulté le=26-01-2010\\n}}\\n\\n== Liens externes ==\\n{{autres projets|commons=B-52 aircraft crash at Fairchild Air Force Base}}\\nVidéo amateur montrant l\\'accident :\\n* {{YouTube|FUEhNKBi4DY|B-52 Fairchild AFB Crash 1994|en}}\\n\\n{{Palette|Accident avion 1994|Accidents aériens aux États-Unis}}\\n{{Portail|aéronautique|années 1990|Washington (État)|Forces armées des États-Unis}}\\n\\n{{Article de qualité|oldid=50305926|date={{1er}} mars 2010}}\\n\\n[[Catégorie:Histoire militaire des États-Unis]]\\n[[Catégorie:Accident ou incident aérien en 1994]]\\n[[Catégorie:Accident ou incident aérien aux États-Unis|Fairchild AB]]\\n[[Catégorie:Accident ou incident aérien impliquant un Boeing]]\\n[[Catégorie:Comté de Spokane]]\\n[[Catégorie:1994 aux États-Unis]]\\n[[Catégorie:Juin 1994]]\\n[[Catégorie:Histoire de l\\'État de Washington]]'}}}"
      ]
     },
     "execution_count": 37,
     "metadata": {},
     "output_type": "execute_result"
    }
   ],
   "source": [
    "page_data"
   ]
  },
  {
   "cell_type": "markdown",
   "metadata": {},
   "source": [
    "Let's fetch the wikitext and the id of the last edition for each featured article and save the response to a compressed file:"
   ]
  },
  {
   "cell_type": "code",
   "execution_count": 53,
   "metadata": {},
   "outputs": [
    {
     "name": "stderr",
     "output_type": "stream",
     "text": [
      "Retrieving data from articles: 10570it [00:06, 1640.30it/s]\n"
     ]
    }
   ],
   "source": [
    "for index, row in tqdm(articles_data.iterrows(), desc='Retrieving data from articles'):\n",
    "\n",
    "    pageid = articles_data.loc[index]['pageid']\n",
    "    lang = articles_data.loc[index]['wiki_lang']\n",
    "    filename = f'articles-content/{pageid}-{lang}.json.gz'\n",
    "    \n",
    "    MEDIAWIKI_API_URL = f'https://{lang}.wikipedia.org/w/api.php?'\n",
    "\n",
    "    if not os.path.isfile(filename):\n",
    "\n",
    "        PARAMS = {\n",
    "            \"action\": \"parse\",\n",
    "            \"pageid\": pageid,\n",
    "            \"prop\": \"wikitext|revid\",\n",
    "            \"format\": \"json\"\n",
    "        }\n",
    "\n",
    "        response = requests.get(\n",
    "            url=MEDIAWIKI_API_URL, \n",
    "            params=PARAMS,\n",
    "            headers=HEADER\n",
    "        )\n",
    "\n",
    "        page_data = response.json()\n",
    "\n",
    "        if response.status_code == 200:\n",
    "            with gzip.open(filename, 'w') as fo:\n",
    "                fo.write(json.dumps(page_data).encode('utf-8'))\n",
    "    \n",
    "    else:\n",
    "        continue\n"
   ]
  },
  {
   "cell_type": "markdown",
   "metadata": {},
   "source": [
    "## 2. Citation template metadata extraction\n",
    "\n",
    "Now that we already have the wikitext of the articles, we will parse it in order to retrieve the references that were introduced using a citation template. In other words, we are not interested in:\n",
    "\n",
    "1. Manually entered references (ie, which do not use citation templates)\n",
    "\n",
    "`<ref name=Briggs>Briggs, Asa & Burke, Peter (2002) ''A Social History of the Media: from Gutenberg to the Internet'', Cambridge: Polity, pp. 15–23, 61–73.</ref>`\n",
    "\n",
    "2. Unlinked references\n",
    "\n",
    "```<ref name=Neeham>{{cite book |title=Paper and Printing |author=[[Tsien Tsuen-Hsuin]] |author2=[[Joseph Needham]] |series=Science and Civilisation in China|volume=5 part 1|publisher=Cambridge University Press|pages=158, 201|year=1985}}</ref> ```\n",
    "\n",
    "An example of the type of references that we want to keep:\n",
    "\n",
    "```<ref name=\"VB1992\">{{cite journal|last1=Osmond|first1=Patricia J.|last2=Ulery|first2=Robert W.|date=2003|title=Sallustius|url=http://catalogustranslationum.org/PDFs/volume08/v08_sallustius.pdf#page=17|journal=[[Catalogus Translationum et Commentariorum]]|volume=8|page=199|access-date=27 August 2015}}</ref>```\n",
    "\n",
    "Therefore, we parse the page content looking only for the citation templates including a URL."
   ]
  },
  {
   "cell_type": "markdown",
   "metadata": {},
   "source": [
    "### 2.1 Parameter name mapping\n",
    "\n",
    "From each reference, we are interested in extracting the following metadata: \n",
    "1. The source type (journal, book, website, etc.)\n",
    "1. The URL of the source\n",
    "2. The author(s)\n",
    "3. The title\n",
    "4. The publishing date\n",
    "5. The publishing source (publisher, location, etc.)\n",
    "\n",
    "The names of each data may vary between templates. For instance, the publishing source is under \"periodical\" for the news template and under \"publisher\" for the books template. Or the publishing date might be called \"date\" or \"year\" in the maps template. The [following spreadsheet](https://docs.google.com/spreadsheets/d/1xbc3FKE0m4JQHa6WCXtBbzeJ9in8P0EQ2NF_VNsaBaM/edit#gid=0) maps the name of each parameter in the citations templates to our fieldnames:"
   ]
  },
  {
   "cell_type": "code",
   "execution_count": 59,
   "metadata": {},
   "outputs": [
    {
     "data": {
      "text/html": [
       "<div>\n",
       "<style scoped>\n",
       "    .dataframe tbody tr th:only-of-type {\n",
       "        vertical-align: middle;\n",
       "    }\n",
       "\n",
       "    .dataframe tbody tr th {\n",
       "        vertical-align: top;\n",
       "    }\n",
       "\n",
       "    .dataframe thead th {\n",
       "        text-align: right;\n",
       "    }\n",
       "</style>\n",
       "<table border=\"1\" class=\"dataframe\">\n",
       "  <thead>\n",
       "    <tr style=\"text-align: right;\">\n",
       "      <th></th>\n",
       "      <th>wiki_lang</th>\n",
       "      <th>template</th>\n",
       "      <th>title</th>\n",
       "      <th>author_last</th>\n",
       "      <th>author_first</th>\n",
       "      <th>pub_date</th>\n",
       "      <th>pub_source</th>\n",
       "    </tr>\n",
       "  </thead>\n",
       "  <tbody>\n",
       "    <tr>\n",
       "      <th>0</th>\n",
       "      <td>en</td>\n",
       "      <td>Cite web</td>\n",
       "      <td>title</td>\n",
       "      <td>last\\d*, author\\d*</td>\n",
       "      <td>first\\d*</td>\n",
       "      <td>date</td>\n",
       "      <td>website, publisher</td>\n",
       "    </tr>\n",
       "    <tr>\n",
       "      <th>1</th>\n",
       "      <td>es</td>\n",
       "      <td>Cita web</td>\n",
       "      <td>título</td>\n",
       "      <td>apellidos?\\d*, autor\\d*</td>\n",
       "      <td>nombre\\d*</td>\n",
       "      <td>fecha</td>\n",
       "      <td>sitioweb, obra, publicación, editorial</td>\n",
       "    </tr>\n",
       "    <tr>\n",
       "      <th>2</th>\n",
       "      <td>pt</td>\n",
       "      <td>Citar web</td>\n",
       "      <td>titulo</td>\n",
       "      <td>ultimo\\d*, autor\\d*</td>\n",
       "      <td>primeiro\\d*</td>\n",
       "      <td>data</td>\n",
       "      <td>obra, publicado</td>\n",
       "    </tr>\n",
       "    <tr>\n",
       "      <th>3</th>\n",
       "      <td>fr</td>\n",
       "      <td>Lien web</td>\n",
       "      <td>titre</td>\n",
       "      <td>nom\\d*, auteur\\d*</td>\n",
       "      <td>prénom\\d*</td>\n",
       "      <td>date</td>\n",
       "      <td>site</td>\n",
       "    </tr>\n",
       "    <tr>\n",
       "      <th>4</th>\n",
       "      <td>en</td>\n",
       "      <td>Cite book</td>\n",
       "      <td>title</td>\n",
       "      <td>last\\d*, author\\d*</td>\n",
       "      <td>first\\d*</td>\n",
       "      <td>date</td>\n",
       "      <td>publication-place, location, publisher</td>\n",
       "    </tr>\n",
       "    <tr>\n",
       "      <th>...</th>\n",
       "      <td>...</td>\n",
       "      <td>...</td>\n",
       "      <td>...</td>\n",
       "      <td>...</td>\n",
       "      <td>...</td>\n",
       "      <td>...</td>\n",
       "      <td>...</td>\n",
       "    </tr>\n",
       "    <tr>\n",
       "      <th>78</th>\n",
       "      <td>fr</td>\n",
       "      <td>Lien arXiv</td>\n",
       "      <td>titre</td>\n",
       "      <td>nom\\d*</td>\n",
       "      <td>prénom\\d*</td>\n",
       "      <td>date</td>\n",
       "      <td>eprint</td>\n",
       "    </tr>\n",
       "    <tr>\n",
       "      <th>79</th>\n",
       "      <td>pt</td>\n",
       "      <td>Citar arXiv</td>\n",
       "      <td>titulo</td>\n",
       "      <td>ultimo\\d*, autor\\d*</td>\n",
       "      <td>primeiro\\d*</td>\n",
       "      <td>data</td>\n",
       "      <td>eprint</td>\n",
       "    </tr>\n",
       "    <tr>\n",
       "      <th>80</th>\n",
       "      <td>en</td>\n",
       "      <td>Citation</td>\n",
       "      <td>title</td>\n",
       "      <td>last\\d*</td>\n",
       "      <td>first\\d*</td>\n",
       "      <td>date</td>\n",
       "      <td>place, publisher</td>\n",
       "    </tr>\n",
       "    <tr>\n",
       "      <th>81</th>\n",
       "      <td>es</td>\n",
       "      <td>Obra citada</td>\n",
       "      <td>título</td>\n",
       "      <td>apellidos?\\d*</td>\n",
       "      <td>nombre\\d*</td>\n",
       "      <td>fecha</td>\n",
       "      <td>editorial</td>\n",
       "    </tr>\n",
       "    <tr>\n",
       "      <th>82</th>\n",
       "      <td>pt</td>\n",
       "      <td>Citation</td>\n",
       "      <td>title</td>\n",
       "      <td>last\\d*</td>\n",
       "      <td>first\\d*</td>\n",
       "      <td>date</td>\n",
       "      <td>publisher</td>\n",
       "    </tr>\n",
       "  </tbody>\n",
       "</table>\n",
       "<p>83 rows × 7 columns</p>\n",
       "</div>"
      ],
      "text/plain": [
       "   wiki_lang     template   title              author_last author_first  \\\n",
       "0         en     Cite web   title       last\\d*, author\\d*     first\\d*   \n",
       "1         es     Cita web  título  apellidos?\\d*, autor\\d*    nombre\\d*   \n",
       "2         pt    Citar web  titulo      ultimo\\d*, autor\\d*  primeiro\\d*   \n",
       "3         fr     Lien web   titre        nom\\d*, auteur\\d*    prénom\\d*   \n",
       "4         en    Cite book   title       last\\d*, author\\d*     first\\d*   \n",
       "..       ...          ...     ...                      ...          ...   \n",
       "78        fr   Lien arXiv   titre                   nom\\d*    prénom\\d*   \n",
       "79        pt  Citar arXiv  titulo      ultimo\\d*, autor\\d*  primeiro\\d*   \n",
       "80        en     Citation   title                  last\\d*     first\\d*   \n",
       "81        es  Obra citada  título            apellidos?\\d*    nombre\\d*   \n",
       "82        pt     Citation   title                  last\\d*     first\\d*   \n",
       "\n",
       "   pub_date                              pub_source  \n",
       "0      date                      website, publisher  \n",
       "1     fecha  sitioweb, obra, publicación, editorial  \n",
       "2      data                         obra, publicado  \n",
       "3      date                                    site  \n",
       "4      date  publication-place, location, publisher  \n",
       "..      ...                                     ...  \n",
       "78     date                                  eprint  \n",
       "79     data                                  eprint  \n",
       "80     date                        place, publisher  \n",
       "81    fecha                               editorial  \n",
       "82     date                               publisher  \n",
       "\n",
       "[83 rows x 7 columns]"
      ]
     },
     "execution_count": 59,
     "metadata": {},
     "output_type": "execute_result"
    }
   ],
   "source": [
    "mapping_sheet = f'https://docs.google.com/spreadsheets/d/1xbc3FKE0m4JQHa6WCXtBbzeJ9in8P0EQ2NF_VNsaBaM/export?gid=0&format=csv'\n",
    "\n",
    "fieldnames_df = pd.read_csv(mapping_sheet)\n",
    "## rename columns\n",
    "fieldnames_df.rename(columns={\n",
    "    \"Template\": \"template\",\n",
    "    \"authorLast\": \"author_last\",\n",
    "    \"authorFirst\": \"author_first\",\n",
    "    \"pubDate\": \"pub_date\",\n",
    "    \"source (published In + published By)\": \"pub_source\"\n",
    "}, inplace=True)\n",
    "\n",
    "fieldnames_df"
   ]
  },
  {
   "cell_type": "markdown",
   "metadata": {},
   "source": [
    "The spreadsheet accepts several parameter names for the same field (`sitioweb, obra, publicación, editorial`) and it also accepts regular expressions (`apellidos?\\d*`)."
   ]
  },
  {
   "cell_type": "code",
   "execution_count": 58,
   "metadata": {},
   "outputs": [
    {
     "name": "stdout",
     "output_type": "stream",
     "text": [
      "We have 26 templates in en\n",
      "We have 18 templates in es\n",
      "We have 24 templates in pt\n",
      "We have 12 templates in fr\n"
     ]
    }
   ],
   "source": [
    "for lang in fieldnames_df['wiki_lang'].unique():\n",
    "    print(f\"We have {len(fieldnames_df[fieldnames_df['wiki_lang'] == lang])} templates in {lang}\")"
   ]
  },
  {
   "cell_type": "markdown",
   "metadata": {},
   "source": [
    "### 2.2 Inspecting all featured articles\n",
    "\n",
    "Taking this spreadsheet into account, we define some methods to extract the citation metadata from the articles:"
   ]
  },
  {
   "cell_type": "code",
   "execution_count": 64,
   "metadata": {},
   "outputs": [],
   "source": [
    "def read_article(filename):\n",
    "    with gzip.open(filename) as fi:\n",
    "        cont = json.loads(fi.read())\n",
    "    return cont\n",
    "    \n",
    "def get_article_data(filename, cont):\n",
    "    lang = os.path.basename(filename).split('-')[1].replace('.json.gz', '')\n",
    "    pageid = cont['parse']['pageid'] \n",
    "    revid = cont['parse']['revid']\n",
    "    article_title = cont['parse']['title']\n",
    "    article_url = f'https://{lang}.wikipedia.org/wiki/{urllib.parse.quote(article_title)}'\n",
    "    \n",
    "    article_data = {\n",
    "        \"article_title\": article_title,\n",
    "        \"article_url\": article_url,\n",
    "        \"page_id\": pageid,\n",
    "        \"revid\": revid,\n",
    "        \"wiki_lang\": lang,\n",
    "    }\n",
    "    return article_data\n",
    "\n",
    "def get_citation_data(fieldname, template, article_data):\n",
    "    '''\n",
    "    Receives the wikicode of a citation template and a dataframe mapping w2c fieldnames to citation template fieldnames.\n",
    "    Matches w2c fieldnames with citation template parameter names and extracts the values for those parameters\n",
    "    Returns a dictionnary with the extracted data.\n",
    "    '''\n",
    "    ## Build result dict\n",
    "    citation_data = article_data.copy()\n",
    "    citation_data.update({\n",
    "        \"url\": None,\n",
    "        \"source_type\": template.name.strip(),\n",
    "        \"title\": [],\n",
    "        \"author_last\": [],\n",
    "        \"author_first\": [],\n",
    "        \"pub_date\": [],\n",
    "        \"pub_source\": [],\n",
    "    })\n",
    "\n",
    "    ## Find parameters in wikicode\n",
    "    wikicode_params = [param.name.strip() for param in template.params]\n",
    "\n",
    "    ## Match wikicode parameters with the fieldnames of our spreadsheet\n",
    "    for key in [\"title\", \"author_first\", \"author_last\", \"pub_date\", \"pub_source\"]:\n",
    "        params_found_in_wikicode = []\n",
    "        \n",
    "        if pd.isna(fieldname[key]):\n",
    "            continue\n",
    "        for param_re in fieldname[key].split(\", \"):\n",
    "            for wikicode_param in wikicode_params:\n",
    "                if re.fullmatch(param_re, wikicode_param):\n",
    "                    params_found_in_wikicode.append(wikicode_param)\n",
    "\n",
    "        for param_found in params_found_in_wikicode:\n",
    "             citation_data[key].append(template.get(param_found).value.strip())\n",
    "                \n",
    "    url_fieldname = \"url\" if \"url\" in wikicode_params else \"URL\"\n",
    "    citation_data[\"url\"] = template.get(url_fieldname).value.strip()\n",
    "\n",
    "    return citation_data"
   ]
  },
  {
   "cell_type": "markdown",
   "metadata": {},
   "source": [
    "And now we apply these methods to the ~10.5k featured articles that we obtained in the previous step. In the next cell, we inspect the json having the content of each article, we parse the wikicode using [mwparserfromhell](https://github.com/earwig/mwparserfromhell) and for each template:\n",
    "\n",
    "1. we verify if it appears in our spreadsheet\n",
    "2. we verify if it contains a URL\n",
    "3. we extract the values for URL, title, author_last, author_first, pub_date, pub_source\n",
    "4. we store the information in a dataframe containing all the citations of the article which respond to 1 and 2"
   ]
  },
  {
   "cell_type": "code",
   "execution_count": null,
   "metadata": {},
   "outputs": [],
   "source": [
    "## Extract citation data for each citation in all featured articles\n",
    "os.makedirs('citations-metadata', exist_ok = True)\n",
    "\n",
    "for filename in tqdm(glob.glob('articles-content/*json.gz'), desc=f\"Finding citations and extracting metadata\"):\n",
    "    new_filename = f\"citations-metadata/{os.path.basename(filename).replace('json.gz', 'csv.gz')}\"\n",
    "    \n",
    "    if os.path.isfile(new_filename):\n",
    "        continue\n",
    "\n",
    "    article_cont = read_article(filename)\n",
    "    wikitext = article_cont['parse']['wikitext']['*']\n",
    "    parsed_wiki = mwparserfromhell.parse(wikitext)\n",
    "    article_data = get_article_data(filename, article_cont)\n",
    "    lang = article_data['wiki_lang']\n",
    "\n",
    "    article_citations = []\n",
    "    for template in parsed_wiki.filter_templates():        \n",
    "        for index, fieldname in fieldnames_df[fieldnames_df['wiki_lang'] == lang].iterrows():\n",
    "            \n",
    "            ## Inspect templates listed in our spreadsheet and extract data for each citation    \n",
    "            if template.name.matches(fieldname['template']):\n",
    "                if template.has_param('url', ignore_empty=True) or template.has_param('URL', ignore_empty=True):\n",
    "\n",
    "                    citation_data = get_citation_data(fieldname, template, article_data)\n",
    "                    article_citations.append(citation_data)\n",
    "                    \n",
    "    article_citations_df = pd.DataFrame(article_citations)\n",
    "    if not article_citations_df.empty:\n",
    "        article_citations_df.to_csv(new_filename, index=False)\n"
   ]
  },
  {
   "cell_type": "markdown",
   "metadata": {},
   "source": [
    "### 2.3 Citation template extraction summary\n",
    "\n",
    "Let's take a look at the results. First, we build a dataframe of the citations:"
   ]
  },
  {
   "cell_type": "code",
   "execution_count": null,
   "metadata": {
    "collapsed": true,
    "jupyter": {
     "outputs_hidden": true
    }
   },
   "outputs": [],
   "source": [
    "dfs = []\n",
    "\n",
    "for filename in tqdm(sorted(os.listdir('citations-metadata'))): \n",
    "\n",
    "    with gzip.open(f'citations-metadata/{filename}') as fi:\n",
    "        article_citations = pd.read_csv(fi)\n",
    "\n",
    "    dfs.append(article_citations)\n",
    "    \n",
    "all_citations = pd.concat(dfs, ignore_index= True)\n",
    "all_citations"
   ]
  },
  {
   "cell_type": "markdown",
   "metadata": {},
   "source": [
    "We found ~461k citations in ~9.9k articles. This means that there are 629 articles for which no reference was extracted. There are several possible reasons for this:\n",
    "\n",
    "1. the references in those articles do not use citation templates\n",
    "2. the references use citation templates but they do not include a URL\n",
    "3. the citation templates are not listed in our spreadsheet\n",
    "\n",
    "Let's summaryze the names of the citation templates that were identified, and how many instances of each were extracted."
   ]
  },
  {
   "cell_type": "code",
   "execution_count": null,
   "metadata": {},
   "outputs": [],
   "source": [
    "template_counts = all_citations[['wiki_lang', 'source_type']].value_counts()\n",
    "template_counts.name = 'freq'\n",
    "template_counts = template_counts.reset_index()\n",
    "template_counts = template_counts.sort_values(['wiki_lang', 'freq'], ascending=[True, False])\n",
    "template_counts = template_counts.reset_index(drop = True)\n",
    "\n",
    "freq_total = template_counts.groupby('wiki_lang')['freq'].sum().to_dict()\n",
    "template_nr = template_counts['wiki_lang'].map(freq_total)\n",
    "template_counts['freq_rel'] = round(template_counts['freq']/template_nr, 2)\n",
    "template_counts"
   ]
  },
  {
   "cell_type": "code",
   "execution_count": null,
   "metadata": {},
   "outputs": [],
   "source": [
    "template_counts.to_csv('citation_templates_freq.csv', index=False)"
   ]
  },
  {
   "cell_type": "code",
   "execution_count": null,
   "metadata": {},
   "outputs": [],
   "source": []
  },
  {
   "cell_type": "code",
   "execution_count": null,
   "metadata": {},
   "outputs": [],
   "source": []
  },
  {
   "cell_type": "markdown",
   "metadata": {},
   "source": [
    "\n",
    "\n",
    "\n"
   ]
  },
  {
   "cell_type": "markdown",
   "metadata": {
    "tags": []
   },
   "source": [
    "## 3. Querying Citoid API\n",
    "\n",
    "In this section, we request the [Citoid API](https://en.wikipedia.org/api/rest_v1/#/Citation/getCitation) to find the citation metadata for the list of URLs found on the previous step.\n",
    "\n",
    "### 3.1 Validate URLs before calling Citoid\n",
    "\n",
    "To optimize this step and to avoid to unnecessarily load the Citoid service, we will check if the URLs meet the following requierements:\n",
    "\n",
    "- to be well formed\n",
    "- to be public\n",
    "- to have http or https URL scheme\n",
    "- do not point to a pdf (Citoid does not support pdfs)"
   ]
  },
  {
   "cell_type": "code",
   "execution_count": 8,
   "metadata": {},
   "outputs": [],
   "source": [
    "def validate_url(url):\n",
    "    is_pdf = url.endswith(\".pdf\") or url.endswith(\".PDF\")\n",
    "    is_ftp = url.startswith(\"ftp\") # validators excludes schemes other than http, https, ftp\n",
    "    is_valid = validators.url(url, public=True)\n",
    "\n",
    "    if is_pdf or is_ftp or not is_valid:\n",
    "        return False\n",
    "    else:\n",
    "        return True"
   ]
  },
  {
   "cell_type": "code",
   "execution_count": 9,
   "metadata": {},
   "outputs": [
    {
     "name": "stderr",
     "output_type": "stream",
     "text": [
      "Validating URLs: 100%|██████████| 9978/9978 [01:01<00:00, 163.08it/s]\n"
     ]
    }
   ],
   "source": [
    "dfs = []\n",
    "\n",
    "for filename in tqdm(sorted(os.listdir('citations-metadata')), desc='Validating URLs'):\n",
    "    with gzip.open(f'citations-metadata/{filename}') as fi:\n",
    "        article_citations = pd.read_csv(fi)\n",
    "        article_citations = article_citations.dropna(subset=['url']) ## REVISAR\n",
    "\n",
    "    valid_urls = article_citations[article_citations['url'].map(validate_url)]\n",
    "    dfs.append(valid_urls)\n",
    "    \n",
    "all_valid_urls = pd.concat(dfs, ignore_index= True)"
   ]
  },
  {
   "cell_type": "code",
   "execution_count": 10,
   "metadata": {},
   "outputs": [],
   "source": [
    "all_valid_urls.to_csv('citations_metadata_valid_urls.csv', index=False)"
   ]
  },
  {
   "cell_type": "markdown",
   "metadata": {},
   "source": [
    "We also eliminate duplicated urls to avoid to request fr the same information twice:"
   ]
  },
  {
   "cell_type": "code",
   "execution_count": 13,
   "metadata": {},
   "outputs": [],
   "source": [
    "valid_urls = all_valid_urls.drop_duplicates(subset=['url'])"
   ]
  },
  {
   "cell_type": "code",
   "execution_count": 14,
   "metadata": {},
   "outputs": [
    {
     "name": "stdout",
     "output_type": "stream",
     "text": [
      "Valid urls: 431929\n",
      "Valid urls without duplicates: 382984\n"
     ]
    }
   ],
   "source": [
    "print(f'Valid urls: {len(all_valid_urls)}')\n",
    "print(f'Valid urls without duplicates: {len(valid_urls)}'"
   ]
  },
  {
   "cell_type": "code",
   "execution_count": null,
   "metadata": {},
   "outputs": [],
   "source": []
  },
  {
   "cell_type": "code",
   "execution_count": null,
   "metadata": {},
   "outputs": [],
   "source": []
  },
  {
   "cell_type": "markdown",
   "metadata": {},
   "source": [
    "### 3.2 Query function and parallel requests\n",
    "\n",
    "We set up the result directory and the function for requesting Citoid's data for one URL:"
   ]
  },
  {
   "cell_type": "code",
   "execution_count": 17,
   "metadata": {},
   "outputs": [],
   "source": [
    "citoid_cache_dir = 'citoid-cache/'\n",
    "os.makedirs(citoid_cache_dir, exist_ok = True)"
   ]
  },
  {
   "cell_type": "code",
   "execution_count": 18,
   "metadata": {},
   "outputs": [],
   "source": [
    "def get_and_cache_response(reference_url, outfname, HEADER):\n",
    "    \n",
    "    if os.path.isfile(outfname):\n",
    "        return f\"Citoid response for {reference_url} already in cache\"\n",
    "    \n",
    "    parsed_url = urllib.parse.quote(reference_url).replace('/', '%2F')\n",
    "    response = requests.get(\n",
    "        url = 'https://en.wikipedia.org/api/rest_v1/data/citation/mediawiki/'+parsed_url,\n",
    "        headers = HEADER,\n",
    "    )\n",
    "\n",
    "    citoid_data = response.json()\n",
    "\n",
    "    # Add request timestamp in Zulu format\n",
    "    tstamp = f\"{datetime.now().isoformat(timespec='seconds')}Z\"\n",
    "    if isinstance(citoid_data, dict): \n",
    "        citoid_data[\"requestTimestamp\"] = tstamp\n",
    "    else:\n",
    "        citoid_data[0][\"requestTimestamp\"] = tstamp\n",
    "\n",
    "    with gzip.open(outfname, 'w') as fo:\n",
    "        fo.write(json.dumps(citoid_data).encode('utf-8'))\n"
   ]
  },
  {
   "cell_type": "code",
   "execution_count": null,
   "metadata": {},
   "outputs": [],
   "source": []
  },
  {
   "cell_type": "code",
   "execution_count": 21,
   "metadata": {},
   "outputs": [],
   "source": [
    "urls_fnames = []\n",
    "\n",
    "for index, row in valid_urls.iterrows():\n",
    "\n",
    "    pageid = row['page_id']\n",
    "    outfname = f\"{citoid_cache_dir}page_{pageid:08}-valid_url_{index:06}.json.gz\"\n",
    "    url = row['url']\n",
    "    \n",
    "    urls_fnames.append((url, outfname))"
   ]
  },
  {
   "cell_type": "code",
   "execution_count": null,
   "metadata": {},
   "outputs": [
    {
     "name": "stderr",
     "output_type": "stream",
     "text": [
      "  0%|          | 0/765 [00:00<?, ?it/s]"
     ]
    },
    {
     "name": "stdout",
     "output_type": "stream",
     "text": [
      "('http://www.telegraph.co.uk/news/worldnews/australiaandthepacific/newzealand/7846625/Most-expensive-feather-ever-fetches-4000-at-auction.html', 'citoid-cache/page_00100018-valid_url_000068.json.gz') generated an exception: [Errno Expecting value] upstream request timeout: 0\n",
      "('http://www.lillemetropole.fr/mel/institution/competences/dechets-menagers.html', 'citoid-cache/page_00100154-valid_url_000395.json.gz') generated an exception: [Errno Expecting value] upstream request timeout: 0\n",
      "('https://recordsearch.naa.gov.au/SearchNRetrieve/NAAMedia/ShowImage.aspx?B=1492204&T=PDF', 'citoid-cache/page_01001558-valid_url_000427.json.gz') generated an exception: [Errno Expecting value] upstream request timeout: 0\n"
     ]
    },
    {
     "name": "stderr",
     "output_type": "stream",
     "text": [
      "  0%|          | 1/765 [02:17<29:10:44, 137.49s/it]"
     ]
    },
    {
     "name": "stdout",
     "output_type": "stream",
     "text": [
      "('https://www.jstage.jst.go.jp/article/kikaic1979/72/714/72_714_471/_pdf', 'citoid-cache/page_00100340-valid_url_000666.json.gz') generated an exception: [Errno Expecting value] upstream request timeout: 0\n"
     ]
    },
    {
     "name": "stderr",
     "output_type": "stream",
     "text": [
      "  0%|          | 2/765 [03:37<21:55:42, 103.46s/it]"
     ]
    },
    {
     "name": "stdout",
     "output_type": "stream",
     "text": [
      "('http://www.timeanddate.com/worldclock/city.html?n=265', 'citoid-cache/page_00100730-valid_url_001415.json.gz') generated an exception: [Errno Expecting value] upstream request timeout: 0\n",
      "('http://mdotnetpublic.state.mi.us/tmispublic/', 'citoid-cache/page_01006150-valid_url_001182.json.gz') generated an exception: [Errno Expecting value] upstream request timeout: 0\n"
     ]
    },
    {
     "name": "stderr",
     "output_type": "stream",
     "text": [
      "  0%|          | 3/765 [05:51<24:54:48, 117.70s/it]"
     ]
    },
    {
     "name": "stdout",
     "output_type": "stream",
     "text": [
      "('http://myride.winnipegtransit.com/en/inside-transit/interestingtransitfacts/', 'citoid-cache/page_00100730-valid_url_001579.json.gz') generated an exception: [Errno Expecting value] upstream request timeout: 0\n",
      "('https://www.amazon.fr/Je-suis-n%C3%A9-jour-bleu/dp/2290011436', 'citoid-cache/page_10101628-valid_url_002004.json.gz') generated an exception: [Errno Expecting value] upstream request timeout: 0\n"
     ]
    },
    {
     "name": "stderr",
     "output_type": "stream",
     "text": [
      "  1%|          | 4/765 [07:24<22:49:47, 108.00s/it]"
     ]
    },
    {
     "name": "stdout",
     "output_type": "stream",
     "text": [
      "('http://news.bbc.co.uk/1/hi/england/tyne/7579943.stm', 'citoid-cache/page_01011219-valid_url_002143.json.gz') generated an exception: [Errno Expecting value] upstream request timeout: 0\n",
      "('https://acervo.folha.com.br/leitor.do?numero=17133&keyword=SANDY&anchor=5625013&origem=busca&pd=d66444d2be912980e04eef9fe075feee', 'citoid-cache/page_00101409-valid_url_002526.json.gz') generated an exception: [Errno Expecting value] upstream request timeout: 0\n"
     ]
    },
    {
     "name": "stderr",
     "output_type": "stream",
     "text": [
      "  1%|          | 5/765 [08:56<21:30:58, 101.92s/it]"
     ]
    },
    {
     "name": "stdout",
     "output_type": "stream",
     "text": [
      "('https://f5.folha.uol.com.br/celebridades/carnaval/2019/02/fa-de-sandy-lorena-queiroz-febre-de-carinha-de-anjo-tera-bloquinho-proprio-em-sp.shtml', 'citoid-cache/page_00101409-valid_url_002773.json.gz') generated an exception: [Errno Expecting value] upstream request timeout: 0\n",
      "('http://www1.folha.uol.com.br/folha/ilustrada/ult90u7934.shtml', 'citoid-cache/page_00101409-valid_url_002851.json.gz') generated an exception: [Errno Expecting value] upstream request timeout: 0\n"
     ]
    },
    {
     "name": "stderr",
     "output_type": "stream",
     "text": [
      "  1%|          | 7/765 [12:27<22:23:08, 106.32s/it]"
     ]
    },
    {
     "name": "stdout",
     "output_type": "stream",
     "text": [
      "('http://seer.ufrgs.br/index.php/bgg/article/download/40018/25538', 'citoid-cache/page_00010193-valid_url_004145.json.gz') generated an exception: [Errno Expecting value] upstream request timeout: 0\n",
      "('http://www.lume.ufrgs.br/bitstream/handle/10183/33270/000114367.pdf?sequence=1', 'citoid-cache/page_00010193-valid_url_004139.json.gz') generated an exception: [Errno Expecting value] upstream request timeout: 0\n"
     ]
    },
    {
     "name": "stderr",
     "output_type": "stream",
     "text": [
      "  1%|          | 8/765 [14:04<21:40:56, 103.11s/it]"
     ]
    },
    {
     "name": "stdout",
     "output_type": "stream",
     "text": [
      "('https://periodicos.furg.br/momento/article/download/4408/2766', 'citoid-cache/page_00010193-valid_url_004251.json.gz') generated an exception: [Errno Expecting value] upstream request timeout: 0\n",
      "('http://www.les-lettres-francaises.fr/2010/09/jack-kerouac-et-le-jazz/', 'citoid-cache/page_01019581-valid_url_004311.json.gz') generated an exception: [Errno Expecting value] upstream request timeout: 0\n"
     ]
    },
    {
     "name": "stderr",
     "output_type": "stream",
     "text": [
      "  1%|          | 9/765 [15:24<20:10:25, 96.07s/it] "
     ]
    },
    {
     "name": "stdout",
     "output_type": "stream",
     "text": [
      "('http://www.amazon.com/Lives-Pillars-Orthodoxy-Dormition-Skete/dp/0944359043', 'citoid-cache/page_01022186-valid_url_004683.json.gz') generated an exception: [Errno Expecting value] upstream request timeout: 0\n"
     ]
    },
    {
     "name": "stderr",
     "output_type": "stream",
     "text": [
      "  1%|▏         | 10/765 [16:51<19:35:01, 93.38s/it]"
     ]
    },
    {
     "name": "stdout",
     "output_type": "stream",
     "text": [
      "('http://www.olympic.org/fr/saint-moritz-1948-olympiques-hiver', 'citoid-cache/page_00102878-valid_url_005499.json.gz') generated an exception: [Errno Expecting value] upstream request timeout: 0\n",
      "('http://www.cliffordmeth.com/alanmooretalkstocliff-pt2.htm', 'citoid-cache/page_00102915-valid_url_005550.json.gz') generated an exception: [Errno Expecting value] upstream request timeout: 0\n",
      "('http://www.portlandonline.com/bes/watershedapp/index.cfm?action=DisplayContent&SubWaterShedID=26&SubjectID=3&TopicID=26&SectionID=1', 'citoid-cache/page_10298609-valid_url_005566.json.gz') generated an exception: [Errno Expecting value] upstream request timeout: 0\n",
      "('http://www.cbc.ca/beta/news/politics/sir-john-a-macdonald-toonie-to-celebrate-1st-pm-s-200th-birthday-1.2879467', 'citoid-cache/page_00103110-valid_url_005629.json.gz') generated an exception: [Errno Expecting value] upstream request timeout: 0\n",
      "('http://www.cbc.ca/news/canada/ottawa/ottawa-river-parkway-renamed-after-sir-john-a-macdonald-1.1131806', 'citoid-cache/page_00103110-valid_url_005630.json.gz') generated an exception: [Errno Expecting value] upstream request timeout: 0\n"
     ]
    }
   ],
   "source": [
    "for batch_of_ufs in tqdm(chunked(urls_fnames, 500), total=len(urls_fnames)//500):\n",
    "    \n",
    "    with concurrent.futures.ThreadPoolExecutor(max_workers=1000) as executor:\n",
    "        \n",
    "        future_to_url = {}\n",
    "        \n",
    "        for uf in batch_of_ufs:\n",
    "            url, outfname = uf\n",
    "            future = executor.submit(get_and_cache_response, url, outfname, HEADER)\n",
    "            future_to_url[future] = uf\n",
    "            \n",
    "        for future in concurrent.futures.as_completed(future_to_url):\n",
    "            uf = future_to_url[future]\n",
    "            try:\n",
    "                data = future.result()\n",
    "            except Exception as exc:\n",
    "                print( f'{uf} generated an exception: {exc}')\n",
    "    \n",
    "    sleep(10)"
   ]
  },
  {
   "cell_type": "code",
   "execution_count": null,
   "metadata": {},
   "outputs": [],
   "source": []
  },
  {
   "cell_type": "markdown",
   "metadata": {},
   "source": [
    "## Tidying up the queried data "
   ]
  },
  {
   "cell_type": "code",
   "execution_count": null,
   "metadata": {},
   "outputs": [],
   "source": []
  },
  {
   "cell_type": "code",
   "execution_count": null,
   "metadata": {},
   "outputs": [],
   "source": []
  },
  {
   "cell_type": "markdown",
   "metadata": {},
   "source": []
  },
  {
   "cell_type": "code",
   "execution_count": null,
   "metadata": {},
   "outputs": [],
   "source": []
  },
  {
   "cell_type": "code",
   "execution_count": null,
   "metadata": {},
   "outputs": [],
   "source": []
  },
  {
   "cell_type": "code",
   "execution_count": null,
   "metadata": {},
   "outputs": [],
   "source": []
  },
  {
   "cell_type": "markdown",
   "metadata": {},
   "source": [
    "## Evaluation"
   ]
  },
  {
   "cell_type": "code",
   "execution_count": null,
   "metadata": {},
   "outputs": [],
   "source": []
  },
  {
   "cell_type": "code",
   "execution_count": null,
   "metadata": {},
   "outputs": [],
   "source": []
  },
  {
   "cell_type": "code",
   "execution_count": null,
   "metadata": {},
   "outputs": [],
   "source": []
  },
  {
   "cell_type": "code",
   "execution_count": null,
   "metadata": {},
   "outputs": [],
   "source": []
  },
  {
   "cell_type": "markdown",
   "metadata": {},
   "source": [
    "## Results\n",
    "    "
   ]
  },
  {
   "cell_type": "code",
   "execution_count": null,
   "metadata": {},
   "outputs": [],
   "source": []
  },
  {
   "cell_type": "code",
   "execution_count": null,
   "metadata": {},
   "outputs": [],
   "source": []
  },
  {
   "cell_type": "code",
   "execution_count": null,
   "metadata": {},
   "outputs": [],
   "source": []
  },
  {
   "cell_type": "code",
   "execution_count": null,
   "metadata": {},
   "outputs": [],
   "source": []
  },
  {
   "cell_type": "code",
   "execution_count": null,
   "metadata": {},
   "outputs": [],
   "source": []
  },
  {
   "cell_type": "markdown",
   "metadata": {},
   "source": [
    "\n"
   ]
  },
  {
   "cell_type": "code",
   "execution_count": null,
   "metadata": {},
   "outputs": [],
   "source": []
  },
  {
   "cell_type": "code",
   "execution_count": null,
   "metadata": {},
   "outputs": [],
   "source": []
  },
  {
   "cell_type": "code",
   "execution_count": null,
   "metadata": {},
   "outputs": [],
   "source": []
  },
  {
   "cell_type": "code",
   "execution_count": null,
   "metadata": {},
   "outputs": [],
   "source": []
  }
 ],
 "metadata": {
  "kernelspec": {
   "display_name": "Python 3 (ipykernel)",
   "language": "python",
   "name": "python3"
  },
  "language_info": {
   "codemirror_mode": {
    "name": "ipython",
    "version": 3
   },
   "file_extension": ".py",
   "mimetype": "text/x-python",
   "name": "python",
   "nbconvert_exporter": "python",
   "pygments_lexer": "ipython3",
   "version": "3.8.10"
  }
 },
 "nbformat": 4,
 "nbformat_minor": 4
}
