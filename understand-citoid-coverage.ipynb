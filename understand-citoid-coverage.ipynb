{
 "cells": [
  {
   "cell_type": "markdown",
   "metadata": {},
   "source": [
    "# Web2cit: up-to-date Citoid gap figures\n",
    "\n",
    "This notebook describes how to retrieve the source code and the Citation templates of the references of a sample of Wikipedia articles to compare them with the results of the Citoid API for the same references.\n",
    "\n",
    "To follow along, we recommend running the script portions piecemeal, in order.\n",
    "\n",
    "__Author:__\n",
    "\n",
    "* Nidia Hernández, [nidiahernandez@conicet.gov.ar](mailto:nidiahy@gmail.com), CAICYT-CONICET\n",
    "\n",
    "\n",
    "## Table of Contents\n",
    "\n",
    "0. Setting Up \n",
    "1. Retrieving data from Wikipedia articles\n",
    "    - 1.1. ...\n",
    "    - 1.2. ...\n",
    "2. Querying Citoid API\n",
    "3. Tidying up the queried data \n",
    "4. Evaluating Citoid results\n",
    "5. Visualizing results\n",
    "    - 4.1. Tabular representation\n",
    "    - 4.2. Other representations ...\n",
    "5. More advanced explorations\n",
    "    - 5.1. ...\n",
    "    - 5.2. ...\n",
    "    - 5.3. ...\n",
    "\n"
   ]
  },
  {
   "cell_type": "markdown",
   "metadata": {},
   "source": [
    "## 0. Setting Up\n",
    "\n",
    "Before we get started, let's install and import the libraries that we will need."
   ]
  },
  {
   "cell_type": "code",
   "execution_count": 34,
   "metadata": {},
   "outputs": [],
   "source": [
    "import re\n",
    "import sys\n",
    "import os\n",
    "import requests\n",
    "from datetime import datetime, timedelta\n",
    "import pandas as pd\n",
    "from operator import itemgetter\n",
    "from json import dump, load\n",
    "from pprint import pprint\n",
    "from tqdm import tqdm\n",
    "import urllib\n",
    "import wikitextparser as wtp\n",
    "# scripts parciales"
   ]
  },
  {
   "cell_type": "code",
   "execution_count": null,
   "metadata": {},
   "outputs": [],
   "source": []
  },
  {
   "cell_type": "markdown",
   "metadata": {},
   "source": [
    "Here we set the global parameters:"
   ]
  },
  {
   "cell_type": "code",
   "execution_count": 3,
   "metadata": {},
   "outputs": [],
   "source": [
    "LANG_OPS = ['en', 'es']\n",
    "lang = 'en'\n",
    "HEADER={'User-Agent': 'http://caicyt-conicet.gov.ar/; mailto:nidiahernandez@conicet.gov.ar'}\n",
    "MEDIAWIKI_API_URL = f'https://{lang}.wikipedia.org/w/api.php?'\n",
    "CITOID_API_URL = f'https://{lang}.wikipedia.org/api/rest_v1/data/citation/mediawiki/'"
   ]
  },
  {
   "cell_type": "markdown",
   "metadata": {},
   "source": [
    "## Retrieving data from Wikipedia articles\n",
    "\n",
    "In this section, we inspect a curated list of Wikipedia articles in order to get:\n",
    "\n",
    "- the source code of the page\n",
    "- the citation templates used on the page\n",
    "- the URLs of the citations\n"
   ]
  },
  {
   "cell_type": "markdown",
   "metadata": {},
   "source": [
    "First, we get the list of URLs of Wikipedia articles from a GoogleSpreadsheet:"
   ]
  },
  {
   "cell_type": "code",
   "execution_count": 4,
   "metadata": {},
   "outputs": [],
   "source": [
    "tab = '2094364128' # english\n",
    "sheet_url = f'https://docs.google.com/spreadsheets/d/1ZgCFtTj8DvAt-OJKPB1d0ShxYjSnN-eT9zxk0EUzMIA/export?gid={tab}&format=csv'\n",
    "df = pd.read_csv(sheet_url)\n",
    "articles = df['URL'].drop_duplicates()"
   ]
  },
  {
   "cell_type": "code",
   "execution_count": 5,
   "metadata": {},
   "outputs": [
    {
     "data": {
      "text/plain": [
       "0     https://en.wikipedia.org/wiki/List_of_dramatic...\n",
       "4         https://en.wikipedia.org/wiki/Editio_princeps\n",
       "8           https://en.wikipedia.org/wiki/Elvis_Presley\n",
       "12     https://en.wikipedia.org/wiki/Lumumba_Government\n",
       "14         https://en.wikipedia.org/wiki/Britney_Spears\n",
       "18            https://en.wikipedia.org/wiki/Airbus_A380\n",
       "Name: URL, dtype: object"
      ]
     },
     "execution_count": 5,
     "metadata": {},
     "output_type": "execute_result"
    }
   ],
   "source": [
    "articles"
   ]
  },
  {
   "cell_type": "markdown",
   "metadata": {},
   "source": [
    "In order to obtain all the references cited on each article, we will get the source code of each article using the Mediawiki API. For the request, we need the title of the article, which is specified in the last part of the URL. More in in mediawiki API documentation: https://www.mediawiki.org/wiki/API:Main_page."
   ]
  },
  {
   "cell_type": "code",
   "execution_count": 36,
   "metadata": {},
   "outputs": [
    {
     "name": "stderr",
     "output_type": "stream",
     "text": [
      "Retrieving data from articles: 100%|██████████| 6/6 [00:05<00:00,  1.02it/s]\n"
     ]
    }
   ],
   "source": [
    "\n",
    "\n",
    "for article_url in tqdm(articles, desc='Retrieving data from articles'):\n",
    "\n",
    "    title = article_urls.split('/')[-1]\n",
    "    title = urllib.parse.unquote(title)\n",
    "    #print(title)\n",
    "    \n",
    "    PARAMS = {\n",
    "        \"action\": \"parse\",\n",
    "        \"page\": title,\n",
    "        \"prop\": \"wikitext\",\n",
    "        \"format\": \"json\"\n",
    "    }\n",
    "\n",
    "    response = requests.get(\n",
    "        url=MEDIAWIKI_API_URL, \n",
    "        params=PARAMS, \n",
    "        headers = HEADER)\n",
    "\n",
    "    DATA = response.json()\n",
    "    \n",
    "    if response.status_code == 200:\n",
    "        pageid = DATA[\"parse\"][\"pageid\"]\n",
    "        wikitext = DATA[\"parse\"][\"wikitext\"][\"*\"]\n",
    "        #revid?\n",
    "        row = {\"article\": article_url, \"pageid\": pageid, \"wikitext\": wikitext}\n",
    "        rows.append(row)\n",
    "\n",
    "df = pd.DataFrame(rows)"
   ]
  },
  {
   "cell_type": "code",
   "execution_count": 37,
   "metadata": {},
   "outputs": [
    {
     "data": {
      "text/html": [
       "<div>\n",
       "<style scoped>\n",
       "    .dataframe tbody tr th:only-of-type {\n",
       "        vertical-align: middle;\n",
       "    }\n",
       "\n",
       "    .dataframe tbody tr th {\n",
       "        vertical-align: top;\n",
       "    }\n",
       "\n",
       "    .dataframe thead th {\n",
       "        text-align: right;\n",
       "    }\n",
       "</style>\n",
       "<table border=\"1\" class=\"dataframe\">\n",
       "  <thead>\n",
       "    <tr style=\"text-align: right;\">\n",
       "      <th></th>\n",
       "      <th>article_url</th>\n",
       "      <th>pageid</th>\n",
       "      <th>wikitext</th>\n",
       "    </tr>\n",
       "  </thead>\n",
       "  <tbody>\n",
       "    <tr>\n",
       "      <th>0</th>\n",
       "      <td>https://en.wikipedia.org/wiki/List_of_dramatic...</td>\n",
       "      <td>61839913</td>\n",
       "      <td>{{hatnote|This article is about [[live action]...</td>\n",
       "    </tr>\n",
       "    <tr>\n",
       "      <th>1</th>\n",
       "      <td>https://en.wikipedia.org/wiki/Editio_princeps</td>\n",
       "      <td>4193686</td>\n",
       "      <td>{{italic title}}In [[classical scholarship]], ...</td>\n",
       "    </tr>\n",
       "    <tr>\n",
       "      <th>2</th>\n",
       "      <td>https://en.wikipedia.org/wiki/Elvis_Presley</td>\n",
       "      <td>9288</td>\n",
       "      <td>{{short description|American singer and actor}...</td>\n",
       "    </tr>\n",
       "    <tr>\n",
       "      <th>3</th>\n",
       "      <td>https://en.wikipedia.org/wiki/Lumumba_Government</td>\n",
       "      <td>54092590</td>\n",
       "      <td>{{very long|rps=117|date=September 2018}}\\n{{I...</td>\n",
       "    </tr>\n",
       "    <tr>\n",
       "      <th>4</th>\n",
       "      <td>https://en.wikipedia.org/wiki/Britney_Spears</td>\n",
       "      <td>3382</td>\n",
       "      <td>{{short description|American singer, songwrite...</td>\n",
       "    </tr>\n",
       "    <tr>\n",
       "      <th>5</th>\n",
       "      <td>https://en.wikipedia.org/wiki/Airbus_A380</td>\n",
       "      <td>181173</td>\n",
       "      <td>{{short description|Wide-body double deck airc...</td>\n",
       "    </tr>\n",
       "  </tbody>\n",
       "</table>\n",
       "</div>"
      ],
      "text/plain": [
       "                                         article_url    pageid  \\\n",
       "0  https://en.wikipedia.org/wiki/List_of_dramatic...  61839913   \n",
       "1      https://en.wikipedia.org/wiki/Editio_princeps   4193686   \n",
       "2        https://en.wikipedia.org/wiki/Elvis_Presley      9288   \n",
       "3   https://en.wikipedia.org/wiki/Lumumba_Government  54092590   \n",
       "4       https://en.wikipedia.org/wiki/Britney_Spears      3382   \n",
       "5          https://en.wikipedia.org/wiki/Airbus_A380    181173   \n",
       "\n",
       "                                            wikitext  \n",
       "0  {{hatnote|This article is about [[live action]...  \n",
       "1  {{italic title}}In [[classical scholarship]], ...  \n",
       "2  {{short description|American singer and actor}...  \n",
       "3  {{very long|rps=117|date=September 2018}}\\n{{I...  \n",
       "4  {{short description|American singer, songwrite...  \n",
       "5  {{short description|Wide-body double deck airc...  "
      ]
     },
     "execution_count": 37,
     "metadata": {},
     "output_type": "execute_result"
    }
   ],
   "source": [
    "df"
   ]
  },
  {
   "cell_type": "markdown",
   "metadata": {},
   "source": [
    "## Citation template metadata extraction\n",
    "\n",
    "Now that we already have the wikitext of the articles, we will parse it in order to retrieve the references that were introduced using a citation template. In other words, we are not interested in:\n",
    "\n",
    "1. Manually entered references (ie, which do not use citation templates)\n",
    "\n",
    "`<ref name=Briggs>Briggs, Asa & Burke, Peter (2002) ''A Social History of the Media: from Gutenberg to the Internet'', Cambridge: Polity, pp. 15–23, 61–73.</ref>`\n",
    "\n",
    "2. Unlinked references\n",
    "\n",
    "```<ref name=Neeham>{{cite book |title=Paper and Printing |author=[[Tsien Tsuen-Hsuin]] |author2=[[Joseph Needham]] |series=Science and Civilisation in China|volume=5 part 1|publisher=Cambridge University Press|pages=158, 201|year=1985}}</ref> ```\n",
    "\n",
    "Instead, we are interested in:\n",
    "\n",
    "1. References having a URL\n",
    "\n",
    "```<ref name=\"VB1992\">{{cite journal|last1=Osmond|first1=Patricia J.|last2=Ulery|first2=Robert W.|date=2003|title=Sallustius|url=http://catalogustranslationum.org/PDFs/volume08/v08_sallustius.pdf#page=17|journal=[[Catalogus Translationum et Commentariorum]]|volume=8|page=199|access-date=27 August 2015}}</ref>```\n",
    "\n",
    "2. References having a DOI (revisar si hay casos de doi sin url)\n",
    "\n",
    "```<ref name=\"NH99-2362\">{{cite journal|last=Holzberg|first=Niklas|date=1999|title=The Fabulist, the Scholars, and the Discourse: Aesop Studies Today|url=https://www.jstor.org/stable/30222546|journal=International Journal of the Classical Tradition|volume=6|pages=236–242|doi=10.1007/s12138-999-0004-y|jstor=30222546|access-date=31 January 2021|number=2|s2cid=195318862}}</ref>```\n",
    "\n",
    "Therefore, we parse the page content looking only for the citation templates including a url:"
   ]
  },
  {
   "cell_type": "markdown",
   "metadata": {},
   "source": []
  },
  {
   "cell_type": "code",
   "execution_count": 70,
   "metadata": {},
   "outputs": [
    {
     "name": "stdout",
     "output_type": "stream",
     "text": [
      "[Argument('|last1=Hartinger '), Argument('|first1=Brent '), Argument('|title=You Should TOTALLY be Watching the Hugh Dancy Storyline on \"The Big C\" Right Now! '), Argument('|url=http://www.newnownext.com/you-should-totally-be-watching-the-hugh-dancy-storyline-on-the-big-c-right-now/08/2011/ '), Argument('|website=[[NewNowNext]] '), Argument('|date=August 8, 2011')]\n"
     ]
    }
   ],
   "source": [
    "#rows = []\n",
    "\n",
    "for i, row in df.iterrows():\n",
    "    \n",
    "    parsed = wtp.parse(row[\"wikitext\"])\n",
    "\n",
    "    for template in parsed.templates:\n",
    "        if '{{cite ' in template:\n",
    "            if '|url=' in template:\n",
    "                print(template.arguments)\n",
    "                \n",
    "                break\n",
    "                \n",
    "    break\n",
    "                \n",
    "        \n",
    "        \n",
    "        \n",
    "# row = {\"article\": article_url, \"pageid\": pageid, \"template\": citation_template, \"url\": url, \"authors\": authors, \"title\": title, \"date\": date, \"publication\": publication}\n",
    "# rows.append(row)\n",
    "# df = pd.DataFrame(rows)"
   ]
  },
  {
   "cell_type": "code",
   "execution_count": 80,
   "metadata": {},
   "outputs": [],
   "source": [
    "args = {arg.name: arg.value for arg in template.arguments}\n",
    "\n",
    "assert len(args) == len(template.arguments)"
   ]
  },
  {
   "cell_type": "code",
   "execution_count": null,
   "metadata": {},
   "outputs": [],
   "source": []
  },
  {
   "cell_type": "code",
   "execution_count": null,
   "metadata": {},
   "outputs": [],
   "source": []
  },
  {
   "cell_type": "code",
   "execution_count": null,
   "metadata": {},
   "outputs": [],
   "source": []
  },
  {
   "cell_type": "code",
   "execution_count": null,
   "metadata": {},
   "outputs": [],
   "source": []
  },
  {
   "cell_type": "code",
   "execution_count": null,
   "metadata": {},
   "outputs": [],
   "source": []
  },
  {
   "cell_type": "code",
   "execution_count": null,
   "metadata": {},
   "outputs": [],
   "source": []
  },
  {
   "cell_type": "code",
   "execution_count": null,
   "metadata": {},
   "outputs": [],
   "source": []
  },
  {
   "cell_type": "markdown",
   "metadata": {},
   "source": []
  },
  {
   "cell_type": "code",
   "execution_count": null,
   "metadata": {},
   "outputs": [],
   "source": [
    "\n"
   ]
  },
  {
   "cell_type": "code",
   "execution_count": null,
   "metadata": {},
   "outputs": [],
   "source": []
  },
  {
   "cell_type": "markdown",
   "metadata": {},
   "source": [
    "\n",
    "\n",
    "\n"
   ]
  },
  {
   "cell_type": "code",
   "execution_count": null,
   "metadata": {},
   "outputs": [],
   "source": [
    "\n"
   ]
  },
  {
   "cell_type": "markdown",
   "metadata": {},
   "source": [
    "## Querying Citoid API\n",
    "\n",
    "In this section, we request the [Citoid API](https://en.wikipedia.org/api/rest_v1/#/Citation/getCitation) to find the citation metadata for the list of URLs found on the previous step."
   ]
  },
  {
   "cell_type": "code",
   "execution_count": null,
   "metadata": {},
   "outputs": [],
   "source": [
    "cache = {}\n",
    "    \n",
    "def get_and_cache_response(reference_url):\n",
    "    \n",
    "    if reference_url not in cache:\n",
    "    \n",
    "        parsed_url = quote(reference_url).replace('/', '%2F')\n",
    "        response = requests.get(\n",
    "            url=CITOID_API_URL+parsed_url,\n",
    "            headers = HEADER\n",
    "        )\n",
    "\n",
    "        if response.status_code == 200:\n",
    "            cache[reference_url] = response.json()\n",
    "        else:\n",
    "            return\n",
    "\n",
    "    return cache[reference_url]"
   ]
  },
  {
   "cell_type": "markdown",
   "metadata": {},
   "source": [
    "## Tidying up the queried data \n",
    "\n",
    "Salida: tabla de URLs citadas, incluyendo\n",
    "+ Número de veces citada en el corpus de ingreso\n",
    "+ Tipo de fuente (art científico, cap libro, etc). >> Info del citation template\n",
    "+ 4 metadatos básicos, según consta en artículo y devuelto por API Citoid\n",
    "    - Título\n",
    "    - Autores\n",
    "    - Fecha de publicacion\n",
    "    - Publicación (nombre diario, revista, nombre del sitio)\n",
    "    - Tipo de fuente\n"
   ]
  },
  {
   "cell_type": "code",
   "execution_count": null,
   "metadata": {},
   "outputs": [],
   "source": [
    "def extract_field(field, obj):\n",
    "    if field in obj:\n",
    "        return obj[field]\n",
    "\n",
    "rows = []\n",
    "\n",
    "for reference_url in tqdm(url_list[11:21]):\n",
    "    \n",
    "    response_json = get_and_cache_response(reference_url)\n",
    "\n",
    "    if response_json:\n",
    "        \n",
    "        assert len(response_json) == 1\n",
    "        obj = response_json[0]\n",
    "\n",
    "        fields_to_extract = [\n",
    "            \"title\",\n",
    "            \"author\",\n",
    "            \"accessDate\", # date\n",
    "            \"publicationTitle\", # (nombre diario, revista)\n",
    "            \"itemType\", #(art científico, cap libro, etc)\n",
    "        ]\n",
    "\n",
    "        row = {field: extract_field(field, obj) for field in fields_to_extract}\n",
    "        rows.append(row)\n",
    "\n",
    "\n",
    "df = pd.DataFrame(rows)\n",
    "df"
   ]
  },
  {
   "cell_type": "code",
   "execution_count": null,
   "metadata": {},
   "outputs": [],
   "source": []
  },
  {
   "cell_type": "code",
   "execution_count": null,
   "metadata": {},
   "outputs": [],
   "source": []
  },
  {
   "cell_type": "markdown",
   "metadata": {},
   "source": [
    "+ Ser capaz de reanudar la operación donde se la dejó en caso de datasets muy grandes\n",
    "+ Validar la metodología reproduciendo los datos publicados por Andrew Lih en 2017 (https://docs.google.com/spreadsheets/d/1kNHSVKq5qZr6_3-05UFtXF2RA5sn3HdUUgL0nC57XPk/edit#gid=543588472)"
   ]
  },
  {
   "cell_type": "code",
   "execution_count": null,
   "metadata": {},
   "outputs": [],
   "source": []
  },
  {
   "cell_type": "code",
   "execution_count": null,
   "metadata": {},
   "outputs": [],
   "source": []
  },
  {
   "cell_type": "code",
   "execution_count": null,
   "metadata": {},
   "outputs": [],
   "source": []
  },
  {
   "cell_type": "markdown",
   "metadata": {},
   "source": [
    "## Evaluation\n",
    "\n",
    "+ Veredicto “soportado por Citoid”\n",
    "+ Puntaje de coincidencia, usando distancia de edición? Suponemos metadatos del template son correctos (los suponemos curados)\n",
    "+ Opcional: estado en dashboard traductores Zotero (o “sin traductor”)\n",
    "+ Opcional: JSON+LD (la URL ofrece metadatos en JSON+LD, sí o no)"
   ]
  },
  {
   "cell_type": "code",
   "execution_count": null,
   "metadata": {},
   "outputs": [],
   "source": []
  },
  {
   "cell_type": "code",
   "execution_count": null,
   "metadata": {},
   "outputs": [],
   "source": []
  },
  {
   "cell_type": "code",
   "execution_count": null,
   "metadata": {},
   "outputs": [],
   "source": []
  },
  {
   "cell_type": "code",
   "execution_count": null,
   "metadata": {},
   "outputs": [],
   "source": []
  },
  {
   "cell_type": "markdown",
   "metadata": {},
   "source": [
    "## Results\n",
    "\n",
    "- Obtener la tabla de cobertura Citoid para cada URL y metadato básico\n",
    "- Mostrar porcentajes de cobertura (Citoid coverage gap) por\n",
    "    + Tipo de fuente\n",
    "    + Idioma de la Wikipedia\n",
    "    "
   ]
  },
  {
   "cell_type": "code",
   "execution_count": null,
   "metadata": {},
   "outputs": [],
   "source": []
  },
  {
   "cell_type": "code",
   "execution_count": null,
   "metadata": {},
   "outputs": [],
   "source": []
  },
  {
   "cell_type": "code",
   "execution_count": null,
   "metadata": {},
   "outputs": [],
   "source": []
  },
  {
   "cell_type": "code",
   "execution_count": null,
   "metadata": {},
   "outputs": [],
   "source": []
  },
  {
   "cell_type": "code",
   "execution_count": null,
   "metadata": {},
   "outputs": [],
   "source": []
  },
  {
   "cell_type": "markdown",
   "metadata": {},
   "source": [
    "\n"
   ]
  },
  {
   "cell_type": "code",
   "execution_count": null,
   "metadata": {},
   "outputs": [],
   "source": []
  },
  {
   "cell_type": "code",
   "execution_count": null,
   "metadata": {},
   "outputs": [],
   "source": []
  },
  {
   "cell_type": "code",
   "execution_count": null,
   "metadata": {},
   "outputs": [],
   "source": []
  },
  {
   "cell_type": "code",
   "execution_count": null,
   "metadata": {},
   "outputs": [],
   "source": []
  }
 ],
 "metadata": {
  "kernelspec": {
   "display_name": "Python 3",
   "language": "python",
   "name": "python3"
  },
  "language_info": {
   "codemirror_mode": {
    "name": "ipython",
    "version": 3
   },
   "file_extension": ".py",
   "mimetype": "text/x-python",
   "name": "python",
   "nbconvert_exporter": "python",
   "pygments_lexer": "ipython3",
   "version": "3.7.6"
  }
 },
 "nbformat": 4,
 "nbformat_minor": 4
}
